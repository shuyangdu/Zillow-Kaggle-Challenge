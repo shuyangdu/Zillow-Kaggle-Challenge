{
 "cells": [
  {
   "cell_type": "markdown",
   "metadata": {},
   "source": [
    "# Hyper-parameter Optimization\n",
    "Wrap __[hyperopt](https://hyperopt.github.io/hyperopt/)__ into **HyperParameterOpt** to do hyper-parameter optimization. Use random search and logged the parameters have been searched."
   ]
  },
  {
   "cell_type": "code",
   "execution_count": 1,
   "metadata": {},
   "outputs": [
    {
     "name": "stderr",
     "output_type": "stream",
     "text": [
      "Using TensorFlow backend.\n"
     ]
    }
   ],
   "source": [
    "import pandas as pd\n",
    "import numpy as np\n",
    "from matplotlib import pyplot as plt\n",
    "import seaborn as sns\n",
    "from hyperopt import hp, fmin, tpe, Trials, space_eval, STATUS_OK\n",
    "# from data_process.column_schema import (PROPERTIES_RENAME_DICT, TRANSACTION_RENAME_DICT, \n",
    "#                                         NUMERICAL_COLS, CATEGORICAL_COLS)\n",
    "# from data_process.data_process_pipeline import DataProcessPipeline\n",
    "from data_process.data_transform_processor import DataProcessor\n",
    "from models.nn_models.dnn import DNN\n",
    "from lightgbm import LGBMRegressor\n",
    "from sklearn.linear_model import ElasticNet\n",
    "from models.tree_models.lgbm import LGBM\n",
    "from models.hyperparameter_opt import HyperParameterOpt\n",
    "%load_ext autoreload\n",
    "%autoreload 2\n",
    "%matplotlib inline\n",
    "%config InlineBackend.figure_format = 'retina'"
   ]
  },
  {
   "cell_type": "markdown",
   "metadata": {},
   "source": [
    "# Prepare data"
   ]
  },
  {
   "cell_type": "code",
   "execution_count": 4,
   "metadata": {
    "collapsed": true
   },
   "outputs": [],
   "source": [
    "df_all = pd.read_csv('/Users/shuyangdu/Desktop/ZillowChallenge/data/df_merged.csv')"
   ]
  },
  {
   "cell_type": "code",
   "execution_count": 5,
   "metadata": {
    "collapsed": true
   },
   "outputs": [],
   "source": [
    "X_all = DataProcessor.pre_process(df_all)\n",
    "y_all = df_all['logerror'].values"
   ]
  },
  {
   "cell_type": "code",
   "execution_count": 6,
   "metadata": {
    "collapsed": true
   },
   "outputs": [],
   "source": [
    "data_processor_dummy = DataProcessor(use_scale=True, use_pca=False, use_dummy=True)\n",
    "data_processor_tree = DataProcessor(use_scale=False, use_pca=False, use_dummy=False)"
   ]
  },
  {
   "cell_type": "markdown",
   "metadata": {},
   "source": [
    "# Define search space"
   ]
  },
  {
   "cell_type": "markdown",
   "metadata": {},
   "source": [
    "## Search space for DNN"
   ]
  },
  {
   "cell_type": "code",
   "execution_count": 7,
   "metadata": {
    "collapsed": true
   },
   "outputs": [],
   "source": [
    "space = {\n",
    "    'learning_rate': hp.loguniform('learning_rate', -4*np.log(10), -1*np.log(10)),\n",
    "    'reg': hp.loguniform('reg', -4*np.log(10), -1*np.log(10)),\n",
    "    'decay': hp.loguniform('decay', -1*np.log(10), -3*np.log(10)),\n",
    "#     'dim_hidden_lst': hp.choice('dim_hidden_lst', [(20,), (30,)]),\n",
    "}"
   ]
  },
  {
   "cell_type": "markdown",
   "metadata": {},
   "source": [
    "## Search space for LightGBM"
   ]
  },
  {
   "cell_type": "code",
   "execution_count": 15,
   "metadata": {},
   "outputs": [],
   "source": [
    "space = {\n",
    "    'learning_rate': hp.loguniform('learning_rate', -2*np.log(10), -1*np.log(10)),  # 1e-2 ~ 1e-1\n",
    "    'n_estimators': 50 * (4 + hp.randint('n_estimators', 7)),  # 200 ~ 500\n",
    "    'num_leaves': 10 * (5 + hp.randint('num_leaves', 16)),  # 50 ~ 200\n",
    "    'lambda_l2': hp.loguniform('lambda_l2', -3*np.log(10), 2*np.log(10)),  # 1e-3 ~ 1e2\n",
    "    'feature_fraction': hp.uniform('feature_fraction', 0.8, 1.0),  #  0.5 ~ 1.0\n",
    "    'bagging_freq': 10 * (2 + hp.randint('bagging_freq', 7)),  # 20 ~ 80\n",
    "    'bagging_fraction': hp.uniform('bagging_fraction', 0.7, 1.0),\n",
    "    'max_bin': 40 * (1 + hp.randint('max_bin', 5)),  # 40 ~ 200\n",
    "}\n",
    "                              \n",
    "fixed_params = {\n",
    "    'objective': 'regression_l1',\n",
    "    'categorical_feature': DataProcessor.categorical_col_idx,\n",
    "}"
   ]
  },
  {
   "cell_type": "markdown",
   "metadata": {},
   "source": [
    "## Search space for Linear Regression ElasticNet"
   ]
  },
  {
   "cell_type": "code",
   "execution_count": 10,
   "metadata": {
    "collapsed": true
   },
   "outputs": [],
   "source": [
    "space = {\n",
    "    'alpha': hp.loguniform('alpha', -2*np.log(10), 2*np.log(10)),\n",
    "    'l1_ratio': hp.uniform('l1_ratio', 0.0, 1.0),\n",
    "}\n",
    "fixed_params={}"
   ]
  },
  {
   "cell_type": "markdown",
   "metadata": {},
   "source": [
    "# Optimize for hyper-parameters"
   ]
  },
  {
   "cell_type": "code",
   "execution_count": 16,
   "metadata": {},
   "outputs": [],
   "source": [
    "hyper_opt = HyperParameterOpt(\n",
    "    model_class=LGBM, \n",
    "    data_processor=data_processor_tree,                           \n",
    "    search_space=space, \n",
    "    max_evals=2,\n",
    "    fixed_params=fixed_params\n",
    ")"
   ]
  },
  {
   "cell_type": "code",
   "execution_count": 17,
   "metadata": {
    "scrolled": false
   },
   "outputs": [],
   "source": [
    "hyper_opt.optimize(X_all, y_all, 52)"
   ]
  },
  {
   "cell_type": "code",
   "execution_count": 18,
   "metadata": {
    "scrolled": true
   },
   "outputs": [
    {
     "data": {
      "text/html": [
       "<div>\n",
       "<style>\n",
       "    .dataframe thead tr:only-child th {\n",
       "        text-align: right;\n",
       "    }\n",
       "\n",
       "    .dataframe thead th {\n",
       "        text-align: left;\n",
       "    }\n",
       "\n",
       "    .dataframe tbody tr th {\n",
       "        vertical-align: top;\n",
       "    }\n",
       "</style>\n",
       "<table border=\"1\" class=\"dataframe\">\n",
       "  <thead>\n",
       "    <tr style=\"text-align: right;\">\n",
       "      <th></th>\n",
       "      <th>bagging_fraction</th>\n",
       "      <th>bagging_freq</th>\n",
       "      <th>feature_fraction</th>\n",
       "      <th>lambda_l2</th>\n",
       "      <th>learning_rate</th>\n",
       "      <th>max_bin</th>\n",
       "      <th>n_estimators</th>\n",
       "      <th>num_leaves</th>\n",
       "      <th>loss</th>\n",
       "      <th>status</th>\n",
       "    </tr>\n",
       "  </thead>\n",
       "  <tbody>\n",
       "    <tr>\n",
       "      <th>0</th>\n",
       "      <td>0.826161</td>\n",
       "      <td>40</td>\n",
       "      <td>0.906137</td>\n",
       "      <td>0.016792</td>\n",
       "      <td>0.029484</td>\n",
       "      <td>120</td>\n",
       "      <td>350</td>\n",
       "      <td>200</td>\n",
       "      <td>0.067417</td>\n",
       "      <td>ok</td>\n",
       "    </tr>\n",
       "    <tr>\n",
       "      <th>1</th>\n",
       "      <td>0.796830</td>\n",
       "      <td>40</td>\n",
       "      <td>0.984859</td>\n",
       "      <td>2.445869</td>\n",
       "      <td>0.041744</td>\n",
       "      <td>120</td>\n",
       "      <td>450</td>\n",
       "      <td>70</td>\n",
       "      <td>0.067444</td>\n",
       "      <td>ok</td>\n",
       "    </tr>\n",
       "  </tbody>\n",
       "</table>\n",
       "</div>"
      ],
      "text/plain": [
       "   bagging_fraction  bagging_freq  feature_fraction  lambda_l2  learning_rate  \\\n",
       "0          0.826161            40          0.906137   0.016792       0.029484   \n",
       "1          0.796830            40          0.984859   2.445869       0.041744   \n",
       "\n",
       "   max_bin  n_estimators  num_leaves      loss status  \n",
       "0      120           350         200  0.067417     ok  \n",
       "1      120           450          70  0.067444     ok  "
      ]
     },
     "execution_count": 18,
     "metadata": {},
     "output_type": "execute_result"
    }
   ],
   "source": [
    "hyper_opt.trial_results"
   ]
  },
  {
   "cell_type": "markdown",
   "metadata": {
    "collapsed": true
   },
   "source": [
    "# Save opt log history"
   ]
  },
  {
   "cell_type": "code",
   "execution_count": 10,
   "metadata": {
    "collapsed": true
   },
   "outputs": [],
   "source": [
    "hyper_opt.trial_results.to_csv('/Users/shuyangdu/Desktop/ZillowChallenge/hyper-parameter-opt/LGBM_raw.csv')"
   ]
  },
  {
   "cell_type": "code",
   "execution_count": null,
   "metadata": {
    "collapsed": true
   },
   "outputs": [],
   "source": []
  },
  {
   "cell_type": "code",
   "execution_count": null,
   "metadata": {
    "collapsed": true
   },
   "outputs": [],
   "source": []
  }
 ],
 "metadata": {
  "kernelspec": {
   "display_name": "Python 2",
   "language": "python",
   "name": "python2"
  },
  "language_info": {
   "codemirror_mode": {
    "name": "ipython",
    "version": 2
   },
   "file_extension": ".py",
   "mimetype": "text/x-python",
   "name": "python",
   "nbconvert_exporter": "python",
   "pygments_lexer": "ipython2",
   "version": "2.7.13"
  }
 },
 "nbformat": 4,
 "nbformat_minor": 2
}
