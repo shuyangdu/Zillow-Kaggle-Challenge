{
 "cells": [
  {
   "cell_type": "code",
   "execution_count": 1,
   "metadata": {
    "collapsed": true
   },
   "outputs": [],
   "source": [
    "import sys\n",
    "sys.path.append('/Users/shuyangdu/Desktop/ZillowChallenge/zillow-kaggle-challenge')\n",
    "import pandas as pd\n",
    "import numpy as np\n",
    "from matplotlib import pyplot as plt\n",
    "import seaborn as sns\n",
    "from data_process.column_schema import (PROPERTIES_RENAME_DICT, TRANSACTION_RENAME_DICT, \n",
    "                                        NUMERICAL_COLS, CATEGORICAL_COLS)\n",
    "from data_process.data_process_pipeline import DataProcessPipeline\n",
    "from data_process.data_transform_processor import DataProcessor\n",
    "from lightgbm import LGBMRegressor\n",
    "from models.tree_models.lgbm import LGBM\n",
    "from sklearn.metrics import mean_absolute_error\n",
    "%load_ext autoreload\n",
    "%autoreload 2\n",
    "%matplotlib inline\n",
    "%config InlineBackend.figure_format = 'retina'"
   ]
  },
  {
   "cell_type": "code",
   "execution_count": 2,
   "metadata": {
    "collapsed": true
   },
   "outputs": [],
   "source": [
    "df_all = pd.read_csv('/Users/shuyangdu/Desktop/ZillowChallenge/data/df_merged.csv')"
   ]
  },
  {
   "cell_type": "markdown",
   "metadata": {},
   "source": [
    "# Data process"
   ]
  },
  {
   "cell_type": "code",
   "execution_count": 16,
   "metadata": {
    "collapsed": true
   },
   "outputs": [],
   "source": [
    "data_processor = DataProcessor()"
   ]
  },
  {
   "cell_type": "code",
   "execution_count": 17,
   "metadata": {
    "collapsed": true
   },
   "outputs": [],
   "source": [
    "X_all = DataProcessor.pre_process(df_all)\n",
    "y_all = df_all['logerror'].values"
   ]
  },
  {
   "cell_type": "code",
   "execution_count": 18,
   "metadata": {
    "collapsed": true
   },
   "outputs": [],
   "source": [
    "iterator = data_processor.k_fold()"
   ]
  },
  {
   "cell_type": "code",
   "execution_count": 19,
   "metadata": {
    "collapsed": true
   },
   "outputs": [],
   "source": [
    "train_idx, test_idx = iterator.next()"
   ]
  },
  {
   "cell_type": "code",
   "execution_count": 20,
   "metadata": {
    "collapsed": true
   },
   "outputs": [],
   "source": [
    "X_train, y_train = X_all[train_idx], y_all[train_idx]\n",
    "X_val, y_val = X_all[test_idx], y_all[test_idx]"
   ]
  },
  {
   "cell_type": "code",
   "execution_count": 21,
   "metadata": {
    "collapsed": true
   },
   "outputs": [],
   "source": [
    "X_train = data_processor.fit_transform(X_train)"
   ]
  },
  {
   "cell_type": "code",
   "execution_count": 22,
   "metadata": {
    "collapsed": true
   },
   "outputs": [],
   "source": [
    "X_val = data_processor.transform(X_val)"
   ]
  },
  {
   "cell_type": "markdown",
   "metadata": {},
   "source": [
    "# Construct Model"
   ]
  },
  {
   "cell_type": "code",
   "execution_count": 25,
   "metadata": {
    "collapsed": true
   },
   "outputs": [],
   "source": [
    "params = {\n",
    "    'max_bin': 80,\n",
    "    'learning_rate': 0.0116,\n",
    "    'boosting_type': 'gbdt',\n",
    "    'objective': 'regression_l1',\n",
    "    'feature_fraction': 0.94,\n",
    "    'bagging_fraction': 0.85,\n",
    "    'bagging_freq': 80,\n",
    "    'num_leaves': 110,\n",
    "    'lambda_l2': 86.9,\n",
    "    'n_estimators': 450,\n",
    "}"
   ]
  },
  {
   "cell_type": "code",
   "execution_count": 26,
   "metadata": {
    "collapsed": true
   },
   "outputs": [],
   "source": [
    "model = LGBM(\n",
    "#     feature_name=data_pipeline.original_feature_cols,\n",
    "    categorical_feature=data_processor.categorical_col_idx,\n",
    "    **params\n",
    ")"
   ]
  },
  {
   "cell_type": "code",
   "execution_count": 27,
   "metadata": {
    "collapsed": true
   },
   "outputs": [],
   "source": [
    "model.fit(X_train, y_train)"
   ]
  },
  {
   "cell_type": "code",
   "execution_count": null,
   "metadata": {
    "collapsed": true
   },
   "outputs": [],
   "source": []
  },
  {
   "cell_type": "code",
   "execution_count": 23,
   "metadata": {
    "collapsed": true
   },
   "outputs": [],
   "source": [
    "model = LGBMRegressor(**params)"
   ]
  },
  {
   "cell_type": "code",
   "execution_count": 24,
   "metadata": {
    "scrolled": true
   },
   "outputs": [
    {
     "name": "stdout",
     "output_type": "stream",
     "text": [
      "[1]\tvalid_0's l1: 0.0672402\n",
      "[2]\tvalid_0's l1: 0.0672185\n",
      "[3]\tvalid_0's l1: 0.0671978\n",
      "[4]\tvalid_0's l1: 0.0671766\n",
      "[5]\tvalid_0's l1: 0.0671602\n",
      "[6]\tvalid_0's l1: 0.0671404\n",
      "[7]\tvalid_0's l1: 0.0671218\n",
      "[8]\tvalid_0's l1: 0.0671063\n",
      "[9]\tvalid_0's l1: 0.0670897\n",
      "[10]\tvalid_0's l1: 0.0670714\n",
      "[11]\tvalid_0's l1: 0.0670546\n",
      "[12]\tvalid_0's l1: 0.0670383\n",
      "[13]\tvalid_0's l1: 0.0670219\n",
      "[14]\tvalid_0's l1: 0.0670059\n",
      "[15]\tvalid_0's l1: 0.0669906\n",
      "[16]\tvalid_0's l1: 0.0669743\n",
      "[17]\tvalid_0's l1: 0.0669593\n",
      "[18]\tvalid_0's l1: 0.0669448\n",
      "[19]\tvalid_0's l1: 0.0669309\n",
      "[20]\tvalid_0's l1: 0.0669168\n",
      "[21]\tvalid_0's l1: 0.0669044\n",
      "[22]\tvalid_0's l1: 0.0668915\n",
      "[23]\tvalid_0's l1: 0.0668777\n",
      "[24]\tvalid_0's l1: 0.0668658\n",
      "[25]\tvalid_0's l1: 0.0668528\n",
      "[26]\tvalid_0's l1: 0.0668409\n",
      "[27]\tvalid_0's l1: 0.06683\n",
      "[28]\tvalid_0's l1: 0.0668195\n",
      "[29]\tvalid_0's l1: 0.0668074\n",
      "[30]\tvalid_0's l1: 0.0667947\n",
      "[31]\tvalid_0's l1: 0.066784\n",
      "[32]\tvalid_0's l1: 0.0667735\n",
      "[33]\tvalid_0's l1: 0.0667617\n",
      "[34]\tvalid_0's l1: 0.0667515\n",
      "[35]\tvalid_0's l1: 0.0667416\n",
      "[36]\tvalid_0's l1: 0.0667322\n",
      "[37]\tvalid_0's l1: 0.0667219\n",
      "[38]\tvalid_0's l1: 0.066713\n",
      "[39]\tvalid_0's l1: 0.0667039\n",
      "[40]\tvalid_0's l1: 0.0666951\n",
      "[41]\tvalid_0's l1: 0.066687\n",
      "[42]\tvalid_0's l1: 0.0666787\n",
      "[43]\tvalid_0's l1: 0.0666698\n",
      "[44]\tvalid_0's l1: 0.0666615\n",
      "[45]\tvalid_0's l1: 0.0666528\n",
      "[46]\tvalid_0's l1: 0.066644\n",
      "[47]\tvalid_0's l1: 0.0666348\n",
      "[48]\tvalid_0's l1: 0.0666256\n",
      "[49]\tvalid_0's l1: 0.0666181\n",
      "[50]\tvalid_0's l1: 0.0666111\n",
      "[51]\tvalid_0's l1: 0.0666032\n",
      "[52]\tvalid_0's l1: 0.0665949\n",
      "[53]\tvalid_0's l1: 0.0665879\n",
      "[54]\tvalid_0's l1: 0.0665809\n",
      "[55]\tvalid_0's l1: 0.0665734\n",
      "[56]\tvalid_0's l1: 0.0665662\n",
      "[57]\tvalid_0's l1: 0.0665587\n",
      "[58]\tvalid_0's l1: 0.0665518\n",
      "[59]\tvalid_0's l1: 0.0665443\n",
      "[60]\tvalid_0's l1: 0.0665365\n",
      "[61]\tvalid_0's l1: 0.0665312\n",
      "[62]\tvalid_0's l1: 0.0665248\n",
      "[63]\tvalid_0's l1: 0.0665196\n",
      "[64]\tvalid_0's l1: 0.0665133\n",
      "[65]\tvalid_0's l1: 0.0665079\n",
      "[66]\tvalid_0's l1: 0.0665017\n",
      "[67]\tvalid_0's l1: 0.0664945\n",
      "[68]\tvalid_0's l1: 0.0664893\n",
      "[69]\tvalid_0's l1: 0.0664835\n",
      "[70]\tvalid_0's l1: 0.0664797\n",
      "[71]\tvalid_0's l1: 0.0664737\n",
      "[72]\tvalid_0's l1: 0.0664689\n",
      "[73]\tvalid_0's l1: 0.0664632\n",
      "[74]\tvalid_0's l1: 0.0664573\n",
      "[75]\tvalid_0's l1: 0.0664517\n",
      "[76]\tvalid_0's l1: 0.0664463\n",
      "[77]\tvalid_0's l1: 0.066441\n",
      "[78]\tvalid_0's l1: 0.0664375\n",
      "[79]\tvalid_0's l1: 0.0664324\n",
      "[80]\tvalid_0's l1: 0.0664282\n",
      "[81]\tvalid_0's l1: 0.0664234\n",
      "[82]\tvalid_0's l1: 0.0664187\n",
      "[83]\tvalid_0's l1: 0.0664153\n",
      "[84]\tvalid_0's l1: 0.0664112\n",
      "[85]\tvalid_0's l1: 0.0664085\n",
      "[86]\tvalid_0's l1: 0.0664034\n",
      "[87]\tvalid_0's l1: 0.0663991\n",
      "[88]\tvalid_0's l1: 0.0663951\n",
      "[89]\tvalid_0's l1: 0.0663915\n",
      "[90]\tvalid_0's l1: 0.0663888\n",
      "[91]\tvalid_0's l1: 0.066384\n",
      "[92]\tvalid_0's l1: 0.0663803\n",
      "[93]\tvalid_0's l1: 0.0663768\n",
      "[94]\tvalid_0's l1: 0.0663706\n",
      "[95]\tvalid_0's l1: 0.0663665\n",
      "[96]\tvalid_0's l1: 0.0663625\n",
      "[97]\tvalid_0's l1: 0.0663592\n",
      "[98]\tvalid_0's l1: 0.0663551\n",
      "[99]\tvalid_0's l1: 0.0663508\n",
      "[100]\tvalid_0's l1: 0.0663477\n",
      "[101]\tvalid_0's l1: 0.0663439\n",
      "[102]\tvalid_0's l1: 0.0663414\n",
      "[103]\tvalid_0's l1: 0.0663392\n",
      "[104]\tvalid_0's l1: 0.0663364\n",
      "[105]\tvalid_0's l1: 0.0663332\n",
      "[106]\tvalid_0's l1: 0.0663286\n",
      "[107]\tvalid_0's l1: 0.0663251\n",
      "[108]\tvalid_0's l1: 0.0663225\n",
      "[109]\tvalid_0's l1: 0.066319\n",
      "[110]\tvalid_0's l1: 0.0663172\n",
      "[111]\tvalid_0's l1: 0.0663139\n",
      "[112]\tvalid_0's l1: 0.0663112\n",
      "[113]\tvalid_0's l1: 0.0663073\n",
      "[114]\tvalid_0's l1: 0.0663042\n",
      "[115]\tvalid_0's l1: 0.0663003\n",
      "[116]\tvalid_0's l1: 0.066297\n",
      "[117]\tvalid_0's l1: 0.0662948\n",
      "[118]\tvalid_0's l1: 0.066291\n",
      "[119]\tvalid_0's l1: 0.0662881\n",
      "[120]\tvalid_0's l1: 0.0662854\n",
      "[121]\tvalid_0's l1: 0.0662831\n",
      "[122]\tvalid_0's l1: 0.06628\n",
      "[123]\tvalid_0's l1: 0.0662758\n",
      "[124]\tvalid_0's l1: 0.066273\n",
      "[125]\tvalid_0's l1: 0.0662704\n",
      "[126]\tvalid_0's l1: 0.0662684\n",
      "[127]\tvalid_0's l1: 0.0662664\n",
      "[128]\tvalid_0's l1: 0.0662639\n",
      "[129]\tvalid_0's l1: 0.0662614\n",
      "[130]\tvalid_0's l1: 0.0662582\n",
      "[131]\tvalid_0's l1: 0.0662552\n",
      "[132]\tvalid_0's l1: 0.0662521\n",
      "[133]\tvalid_0's l1: 0.0662489\n",
      "[134]\tvalid_0's l1: 0.0662466\n",
      "[135]\tvalid_0's l1: 0.0662449\n",
      "[136]\tvalid_0's l1: 0.0662421\n",
      "[137]\tvalid_0's l1: 0.0662397\n",
      "[138]\tvalid_0's l1: 0.0662385\n",
      "[139]\tvalid_0's l1: 0.0662355\n",
      "[140]\tvalid_0's l1: 0.0662331\n",
      "[141]\tvalid_0's l1: 0.0662305\n",
      "[142]\tvalid_0's l1: 0.0662288\n",
      "[143]\tvalid_0's l1: 0.066227\n",
      "[144]\tvalid_0's l1: 0.0662257\n",
      "[145]\tvalid_0's l1: 0.0662238\n",
      "[146]\tvalid_0's l1: 0.0662209\n",
      "[147]\tvalid_0's l1: 0.0662202\n",
      "[148]\tvalid_0's l1: 0.0662188\n",
      "[149]\tvalid_0's l1: 0.0662168\n",
      "[150]\tvalid_0's l1: 0.0662148\n",
      "[151]\tvalid_0's l1: 0.0662133\n",
      "[152]\tvalid_0's l1: 0.0662122\n",
      "[153]\tvalid_0's l1: 0.0662103\n",
      "[154]\tvalid_0's l1: 0.0662077\n",
      "[155]\tvalid_0's l1: 0.0662051\n",
      "[156]\tvalid_0's l1: 0.066204\n",
      "[157]\tvalid_0's l1: 0.0662031\n",
      "[158]\tvalid_0's l1: 0.0662021\n",
      "[159]\tvalid_0's l1: 0.0662012\n",
      "[160]\tvalid_0's l1: 0.0661995\n",
      "[161]\tvalid_0's l1: 0.0661977\n",
      "[162]\tvalid_0's l1: 0.0661947\n",
      "[163]\tvalid_0's l1: 0.0661924\n",
      "[164]\tvalid_0's l1: 0.0661906\n",
      "[165]\tvalid_0's l1: 0.066188\n",
      "[166]\tvalid_0's l1: 0.0661857\n",
      "[167]\tvalid_0's l1: 0.0661837\n",
      "[168]\tvalid_0's l1: 0.0661829\n",
      "[169]\tvalid_0's l1: 0.0661805\n",
      "[170]\tvalid_0's l1: 0.0661792\n",
      "[171]\tvalid_0's l1: 0.0661778\n",
      "[172]\tvalid_0's l1: 0.0661752\n",
      "[173]\tvalid_0's l1: 0.0661735\n",
      "[174]\tvalid_0's l1: 0.0661719\n",
      "[175]\tvalid_0's l1: 0.0661691\n",
      "[176]\tvalid_0's l1: 0.0661677\n",
      "[177]\tvalid_0's l1: 0.0661665\n",
      "[178]\tvalid_0's l1: 0.0661658\n",
      "[179]\tvalid_0's l1: 0.066165\n",
      "[180]\tvalid_0's l1: 0.0661643\n",
      "[181]\tvalid_0's l1: 0.0661627\n",
      "[182]\tvalid_0's l1: 0.0661604\n",
      "[183]\tvalid_0's l1: 0.0661587\n",
      "[184]\tvalid_0's l1: 0.0661593\n",
      "[185]\tvalid_0's l1: 0.0661578\n",
      "[186]\tvalid_0's l1: 0.0661577\n",
      "[187]\tvalid_0's l1: 0.0661567\n",
      "[188]\tvalid_0's l1: 0.0661542\n",
      "[189]\tvalid_0's l1: 0.0661522\n",
      "[190]\tvalid_0's l1: 0.0661504\n",
      "[191]\tvalid_0's l1: 0.0661482\n",
      "[192]\tvalid_0's l1: 0.066146\n",
      "[193]\tvalid_0's l1: 0.0661437\n",
      "[194]\tvalid_0's l1: 0.0661419\n",
      "[195]\tvalid_0's l1: 0.0661411\n",
      "[196]\tvalid_0's l1: 0.0661396\n",
      "[197]\tvalid_0's l1: 0.0661374\n",
      "[198]\tvalid_0's l1: 0.0661359\n",
      "[199]\tvalid_0's l1: 0.0661346\n",
      "[200]\tvalid_0's l1: 0.0661335\n",
      "[201]\tvalid_0's l1: 0.0661312\n",
      "[202]\tvalid_0's l1: 0.0661298\n",
      "[203]\tvalid_0's l1: 0.0661279\n",
      "[204]\tvalid_0's l1: 0.0661267\n",
      "[205]\tvalid_0's l1: 0.0661253\n",
      "[206]\tvalid_0's l1: 0.0661251\n",
      "[207]\tvalid_0's l1: 0.0661249\n",
      "[208]\tvalid_0's l1: 0.0661247\n",
      "[209]\tvalid_0's l1: 0.0661235\n",
      "[210]\tvalid_0's l1: 0.0661221\n",
      "[211]\tvalid_0's l1: 0.066121\n",
      "[212]\tvalid_0's l1: 0.0661201\n",
      "[213]\tvalid_0's l1: 0.0661185\n",
      "[214]\tvalid_0's l1: 0.066118\n",
      "[215]\tvalid_0's l1: 0.066117\n",
      "[216]\tvalid_0's l1: 0.0661153\n",
      "[217]\tvalid_0's l1: 0.0661142\n",
      "[218]\tvalid_0's l1: 0.0661142\n",
      "[219]\tvalid_0's l1: 0.0661138\n",
      "[220]\tvalid_0's l1: 0.066113\n",
      "[221]\tvalid_0's l1: 0.066112\n",
      "[222]\tvalid_0's l1: 0.0661092\n",
      "[223]\tvalid_0's l1: 0.0661079\n",
      "[224]\tvalid_0's l1: 0.0661066\n",
      "[225]\tvalid_0's l1: 0.0661056\n",
      "[226]\tvalid_0's l1: 0.0661054\n",
      "[227]\tvalid_0's l1: 0.0661054\n",
      "[228]\tvalid_0's l1: 0.0661043\n",
      "[229]\tvalid_0's l1: 0.0661038\n",
      "[230]\tvalid_0's l1: 0.0661035\n",
      "[231]\tvalid_0's l1: 0.0661018\n",
      "[232]\tvalid_0's l1: 0.0660997\n",
      "[233]\tvalid_0's l1: 0.0660992\n",
      "[234]\tvalid_0's l1: 0.0660979\n",
      "[235]\tvalid_0's l1: 0.0660967\n",
      "[236]\tvalid_0's l1: 0.066096\n",
      "[237]\tvalid_0's l1: 0.0660942\n",
      "[238]\tvalid_0's l1: 0.0660925\n",
      "[239]\tvalid_0's l1: 0.0660908\n",
      "[240]\tvalid_0's l1: 0.0660897\n",
      "[241]\tvalid_0's l1: 0.0660885\n",
      "[242]\tvalid_0's l1: 0.0660882\n",
      "[243]\tvalid_0's l1: 0.0660874\n",
      "[244]\tvalid_0's l1: 0.0660856\n",
      "[245]\tvalid_0's l1: 0.0660846\n",
      "[246]\tvalid_0's l1: 0.0660828\n",
      "[247]\tvalid_0's l1: 0.0660811\n",
      "[248]\tvalid_0's l1: 0.0660793\n",
      "[249]\tvalid_0's l1: 0.0660781\n",
      "[250]\tvalid_0's l1: 0.0660763\n",
      "[251]\tvalid_0's l1: 0.0660738\n",
      "[252]\tvalid_0's l1: 0.0660736\n",
      "[253]\tvalid_0's l1: 0.0660724\n",
      "[254]\tvalid_0's l1: 0.0660714\n",
      "[255]\tvalid_0's l1: 0.0660711\n",
      "[256]\tvalid_0's l1: 0.0660702\n",
      "[257]\tvalid_0's l1: 0.0660684\n",
      "[258]\tvalid_0's l1: 0.0660668\n",
      "[259]\tvalid_0's l1: 0.066066\n",
      "[260]\tvalid_0's l1: 0.0660655\n",
      "[261]\tvalid_0's l1: 0.0660642\n",
      "[262]\tvalid_0's l1: 0.0660635\n",
      "[263]\tvalid_0's l1: 0.0660623\n",
      "[264]\tvalid_0's l1: 0.0660599\n",
      "[265]\tvalid_0's l1: 0.06606\n",
      "[266]\tvalid_0's l1: 0.0660585\n",
      "[267]\tvalid_0's l1: 0.0660574\n",
      "[268]\tvalid_0's l1: 0.0660573\n",
      "[269]\tvalid_0's l1: 0.0660566\n",
      "[270]\tvalid_0's l1: 0.0660561\n",
      "[271]\tvalid_0's l1: 0.0660544\n",
      "[272]\tvalid_0's l1: 0.066053\n",
      "[273]\tvalid_0's l1: 0.0660521\n",
      "[274]\tvalid_0's l1: 0.0660511\n",
      "[275]\tvalid_0's l1: 0.0660506\n",
      "[276]\tvalid_0's l1: 0.0660499\n",
      "[277]\tvalid_0's l1: 0.0660495\n",
      "[278]\tvalid_0's l1: 0.0660486\n",
      "[279]\tvalid_0's l1: 0.0660474\n",
      "[280]\tvalid_0's l1: 0.0660478\n",
      "[281]\tvalid_0's l1: 0.0660479\n",
      "[282]\tvalid_0's l1: 0.0660477\n"
     ]
    },
    {
     "name": "stdout",
     "output_type": "stream",
     "text": [
      "[283]\tvalid_0's l1: 0.0660475\n",
      "[284]\tvalid_0's l1: 0.0660466\n",
      "[285]\tvalid_0's l1: 0.0660451\n",
      "[286]\tvalid_0's l1: 0.0660437\n",
      "[287]\tvalid_0's l1: 0.0660432\n",
      "[288]\tvalid_0's l1: 0.0660421\n",
      "[289]\tvalid_0's l1: 0.0660413\n",
      "[290]\tvalid_0's l1: 0.0660403\n",
      "[291]\tvalid_0's l1: 0.0660401\n",
      "[292]\tvalid_0's l1: 0.0660394\n",
      "[293]\tvalid_0's l1: 0.0660384\n",
      "[294]\tvalid_0's l1: 0.066037\n",
      "[295]\tvalid_0's l1: 0.0660364\n",
      "[296]\tvalid_0's l1: 0.0660347\n",
      "[297]\tvalid_0's l1: 0.0660348\n",
      "[298]\tvalid_0's l1: 0.0660336\n",
      "[299]\tvalid_0's l1: 0.0660338\n",
      "[300]\tvalid_0's l1: 0.0660328\n",
      "[301]\tvalid_0's l1: 0.066032\n",
      "[302]\tvalid_0's l1: 0.0660318\n",
      "[303]\tvalid_0's l1: 0.0660314\n",
      "[304]\tvalid_0's l1: 0.066031\n",
      "[305]\tvalid_0's l1: 0.0660298\n",
      "[306]\tvalid_0's l1: 0.0660298\n",
      "[307]\tvalid_0's l1: 0.0660288\n",
      "[308]\tvalid_0's l1: 0.0660287\n",
      "[309]\tvalid_0's l1: 0.0660278\n",
      "[310]\tvalid_0's l1: 0.0660267\n",
      "[311]\tvalid_0's l1: 0.0660259\n",
      "[312]\tvalid_0's l1: 0.066024\n",
      "[313]\tvalid_0's l1: 0.0660231\n",
      "[314]\tvalid_0's l1: 0.0660226\n",
      "[315]\tvalid_0's l1: 0.066022\n",
      "[316]\tvalid_0's l1: 0.0660222\n",
      "[317]\tvalid_0's l1: 0.0660211\n",
      "[318]\tvalid_0's l1: 0.0660209\n",
      "[319]\tvalid_0's l1: 0.0660206\n",
      "[320]\tvalid_0's l1: 0.0660202\n",
      "[321]\tvalid_0's l1: 0.0660197\n",
      "[322]\tvalid_0's l1: 0.0660186\n",
      "[323]\tvalid_0's l1: 0.0660167\n",
      "[324]\tvalid_0's l1: 0.0660151\n",
      "[325]\tvalid_0's l1: 0.0660143\n",
      "[326]\tvalid_0's l1: 0.0660126\n",
      "[327]\tvalid_0's l1: 0.0660113\n",
      "[328]\tvalid_0's l1: 0.0660106\n",
      "[329]\tvalid_0's l1: 0.0660103\n",
      "[330]\tvalid_0's l1: 0.06601\n",
      "[331]\tvalid_0's l1: 0.0660104\n",
      "[332]\tvalid_0's l1: 0.0660107\n",
      "[333]\tvalid_0's l1: 0.0660105\n",
      "[334]\tvalid_0's l1: 0.066011\n",
      "[335]\tvalid_0's l1: 0.0660101\n",
      "[336]\tvalid_0's l1: 0.0660099\n",
      "[337]\tvalid_0's l1: 0.0660089\n",
      "[338]\tvalid_0's l1: 0.066009\n",
      "[339]\tvalid_0's l1: 0.0660081\n",
      "[340]\tvalid_0's l1: 0.0660074\n",
      "[341]\tvalid_0's l1: 0.0660075\n",
      "[342]\tvalid_0's l1: 0.0660069\n",
      "[343]\tvalid_0's l1: 0.0660067\n",
      "[344]\tvalid_0's l1: 0.0660066\n",
      "[345]\tvalid_0's l1: 0.0660053\n",
      "[346]\tvalid_0's l1: 0.066005\n",
      "[347]\tvalid_0's l1: 0.0660047\n",
      "[348]\tvalid_0's l1: 0.0660045\n",
      "[349]\tvalid_0's l1: 0.0660034\n",
      "[350]\tvalid_0's l1: 0.0660024\n",
      "[351]\tvalid_0's l1: 0.0660027\n",
      "[352]\tvalid_0's l1: 0.0660001\n",
      "[353]\tvalid_0's l1: 0.0659999\n",
      "[354]\tvalid_0's l1: 0.0659999\n",
      "[355]\tvalid_0's l1: 0.0659988\n",
      "[356]\tvalid_0's l1: 0.0659987\n",
      "[357]\tvalid_0's l1: 0.0659977\n",
      "[358]\tvalid_0's l1: 0.0659975\n",
      "[359]\tvalid_0's l1: 0.0659965\n",
      "[360]\tvalid_0's l1: 0.0659969\n",
      "[361]\tvalid_0's l1: 0.0659969\n",
      "[362]\tvalid_0's l1: 0.0659979\n",
      "[363]\tvalid_0's l1: 0.0659973\n",
      "[364]\tvalid_0's l1: 0.0659979\n",
      "[365]\tvalid_0's l1: 0.0659985\n",
      "[366]\tvalid_0's l1: 0.0659969\n",
      "[367]\tvalid_0's l1: 0.0659961\n",
      "[368]\tvalid_0's l1: 0.0659949\n",
      "[369]\tvalid_0's l1: 0.0659947\n",
      "[370]\tvalid_0's l1: 0.0659944\n",
      "[371]\tvalid_0's l1: 0.0659936\n",
      "[372]\tvalid_0's l1: 0.0659937\n",
      "[373]\tvalid_0's l1: 0.0659945\n",
      "[374]\tvalid_0's l1: 0.0659939\n",
      "[375]\tvalid_0's l1: 0.0659944\n",
      "[376]\tvalid_0's l1: 0.0659943\n",
      "[377]\tvalid_0's l1: 0.0659934\n",
      "[378]\tvalid_0's l1: 0.0659927\n",
      "[379]\tvalid_0's l1: 0.0659927\n",
      "[380]\tvalid_0's l1: 0.0659919\n",
      "[381]\tvalid_0's l1: 0.0659922\n",
      "[382]\tvalid_0's l1: 0.0659919\n",
      "[383]\tvalid_0's l1: 0.0659912\n",
      "[384]\tvalid_0's l1: 0.0659904\n",
      "[385]\tvalid_0's l1: 0.0659896\n",
      "[386]\tvalid_0's l1: 0.0659901\n",
      "[387]\tvalid_0's l1: 0.0659892\n",
      "[388]\tvalid_0's l1: 0.0659894\n",
      "[389]\tvalid_0's l1: 0.0659897\n",
      "[390]\tvalid_0's l1: 0.0659901\n",
      "[391]\tvalid_0's l1: 0.0659912\n",
      "[392]\tvalid_0's l1: 0.0659901\n",
      "[393]\tvalid_0's l1: 0.065989\n",
      "[394]\tvalid_0's l1: 0.0659882\n",
      "[395]\tvalid_0's l1: 0.0659877\n",
      "[396]\tvalid_0's l1: 0.0659869\n",
      "[397]\tvalid_0's l1: 0.0659867\n",
      "[398]\tvalid_0's l1: 0.0659864\n",
      "[399]\tvalid_0's l1: 0.0659853\n",
      "[400]\tvalid_0's l1: 0.0659853\n",
      "[401]\tvalid_0's l1: 0.0659855\n",
      "[402]\tvalid_0's l1: 0.0659855\n",
      "[403]\tvalid_0's l1: 0.0659858\n",
      "[404]\tvalid_0's l1: 0.0659856\n",
      "[405]\tvalid_0's l1: 0.0659858\n",
      "[406]\tvalid_0's l1: 0.0659859\n",
      "[407]\tvalid_0's l1: 0.065986\n",
      "[408]\tvalid_0's l1: 0.0659856\n",
      "[409]\tvalid_0's l1: 0.0659851\n",
      "[410]\tvalid_0's l1: 0.0659864\n",
      "[411]\tvalid_0's l1: 0.0659855\n",
      "[412]\tvalid_0's l1: 0.065985\n",
      "[413]\tvalid_0's l1: 0.065984\n",
      "[414]\tvalid_0's l1: 0.0659831\n",
      "[415]\tvalid_0's l1: 0.0659827\n",
      "[416]\tvalid_0's l1: 0.0659827\n",
      "[417]\tvalid_0's l1: 0.0659825\n",
      "[418]\tvalid_0's l1: 0.0659824\n",
      "[419]\tvalid_0's l1: 0.0659831\n",
      "[420]\tvalid_0's l1: 0.065983\n",
      "[421]\tvalid_0's l1: 0.0659828\n",
      "[422]\tvalid_0's l1: 0.0659824\n",
      "[423]\tvalid_0's l1: 0.0659807\n",
      "[424]\tvalid_0's l1: 0.0659813\n",
      "[425]\tvalid_0's l1: 0.0659812\n",
      "[426]\tvalid_0's l1: 0.0659808\n",
      "[427]\tvalid_0's l1: 0.0659811\n",
      "[428]\tvalid_0's l1: 0.0659816\n",
      "[429]\tvalid_0's l1: 0.0659817\n",
      "[430]\tvalid_0's l1: 0.0659819\n",
      "[431]\tvalid_0's l1: 0.0659821\n",
      "[432]\tvalid_0's l1: 0.0659822\n",
      "[433]\tvalid_0's l1: 0.0659822\n",
      "[434]\tvalid_0's l1: 0.0659829\n",
      "[435]\tvalid_0's l1: 0.0659827\n",
      "[436]\tvalid_0's l1: 0.0659828\n",
      "[437]\tvalid_0's l1: 0.065983\n",
      "[438]\tvalid_0's l1: 0.0659825\n",
      "[439]\tvalid_0's l1: 0.0659828\n",
      "[440]\tvalid_0's l1: 0.0659828\n",
      "[441]\tvalid_0's l1: 0.0659831\n",
      "[442]\tvalid_0's l1: 0.0659826\n",
      "[443]\tvalid_0's l1: 0.0659823\n",
      "[444]\tvalid_0's l1: 0.0659823\n",
      "[445]\tvalid_0's l1: 0.0659817\n",
      "[446]\tvalid_0's l1: 0.0659815\n",
      "[447]\tvalid_0's l1: 0.0659811\n",
      "[448]\tvalid_0's l1: 0.065981\n",
      "[449]\tvalid_0's l1: 0.0659805\n",
      "[450]\tvalid_0's l1: 0.0659804\n"
     ]
    },
    {
     "data": {
      "text/plain": [
       "LGBMRegressor(bagging_fraction=0.85, bagging_freq=80, boosting_type='gbdt',\n",
       "       colsample_bytree=1, feature_fraction=0.94, lambda_l2=86.9,\n",
       "       learning_rate=0.0116, max_bin=80, max_depth=-1,\n",
       "       min_child_samples=10, min_child_weight=5, min_split_gain=0,\n",
       "       n_estimators=450, nthread=-1, num_leaves=110,\n",
       "       objective='regression_l1', reg_alpha=0, reg_lambda=0, seed=0,\n",
       "       silent=True, subsample=1, subsample_for_bin=50000, subsample_freq=1)"
      ]
     },
     "execution_count": 24,
     "metadata": {},
     "output_type": "execute_result"
    }
   ],
   "source": [
    "model.fit(X_train, y_train, eval_set=[(X_val, y_val)], eval_metric='l1')"
   ]
  },
  {
   "cell_type": "code",
   "execution_count": 28,
   "metadata": {
    "collapsed": true
   },
   "outputs": [],
   "source": [
    "y_pred = model.predict(X_val)"
   ]
  },
  {
   "cell_type": "code",
   "execution_count": 20,
   "metadata": {},
   "outputs": [
    {
     "data": {
      "text/plain": [
       "array([-0.27724017, -0.242604  , -0.22073611, ...,  0.18763668,\n",
       "        0.22574773,  0.27805737])"
      ]
     },
     "execution_count": 20,
     "metadata": {},
     "output_type": "execute_result"
    }
   ],
   "source": [
    "np.unique(y_pred)"
   ]
  },
  {
   "cell_type": "code",
   "execution_count": 13,
   "metadata": {},
   "outputs": [
    {
     "data": {
      "text/plain": [
       "0.065969168600461162"
      ]
     },
     "execution_count": 13,
     "metadata": {},
     "output_type": "execute_result"
    }
   ],
   "source": [
    "mean_absolute_error(y_val, y_pred)"
   ]
  },
  {
   "cell_type": "code",
   "execution_count": 29,
   "metadata": {},
   "outputs": [
    {
     "data": {
      "text/plain": [
       "0.065955525236131671"
      ]
     },
     "execution_count": 29,
     "metadata": {},
     "output_type": "execute_result"
    }
   ],
   "source": [
    "mean_absolute_error(y_val, y_pred)"
   ]
  },
  {
   "cell_type": "code",
   "execution_count": null,
   "metadata": {
    "collapsed": true
   },
   "outputs": [],
   "source": []
  },
  {
   "cell_type": "code",
   "execution_count": null,
   "metadata": {
    "collapsed": true
   },
   "outputs": [],
   "source": []
  },
  {
   "cell_type": "markdown",
   "metadata": {},
   "source": [
    "# Deprecated code for old data process pipeline"
   ]
  },
  {
   "cell_type": "code",
   "execution_count": 3,
   "metadata": {
    "collapsed": true
   },
   "outputs": [],
   "source": [
    "data_pipeline = DataProcessPipeline(encode_mode='label')"
   ]
  },
  {
   "cell_type": "code",
   "execution_count": 4,
   "metadata": {
    "collapsed": true
   },
   "outputs": [],
   "source": [
    "df = data_pipeline.pre_process(df_all)"
   ]
  },
  {
   "cell_type": "code",
   "execution_count": 5,
   "metadata": {
    "collapsed": true
   },
   "outputs": [],
   "source": [
    "iterator = data_pipeline.k_fold(df, 52)"
   ]
  },
  {
   "cell_type": "code",
   "execution_count": 6,
   "metadata": {
    "collapsed": true
   },
   "outputs": [],
   "source": [
    "df_train, df_val = iterator.next()"
   ]
  },
  {
   "cell_type": "code",
   "execution_count": 7,
   "metadata": {
    "collapsed": true
   },
   "outputs": [],
   "source": [
    "df_train = data_pipeline.post_process(df_train, is_train=True)\n",
    "df_val = data_pipeline.post_process(df_val, is_train=False)"
   ]
  },
  {
   "cell_type": "code",
   "execution_count": 8,
   "metadata": {
    "collapsed": true
   },
   "outputs": [],
   "source": [
    "X_train = df_train[data_pipeline.final_feature_cols].values\n",
    "y_train = df_train[data_pipeline.label_col].values\n",
    "X_val = df_val[data_pipeline.final_feature_cols].values\n",
    "y_val = df_val[data_pipeline.label_col].values"
   ]
  }
 ],
 "metadata": {
  "kernelspec": {
   "display_name": "Python 2",
   "language": "python",
   "name": "python2"
  },
  "language_info": {
   "codemirror_mode": {
    "name": "ipython",
    "version": 2
   },
   "file_extension": ".py",
   "mimetype": "text/x-python",
   "name": "python",
   "nbconvert_exporter": "python",
   "pygments_lexer": "ipython2",
   "version": "2.7.13"
  }
 },
 "nbformat": 4,
 "nbformat_minor": 2
}
