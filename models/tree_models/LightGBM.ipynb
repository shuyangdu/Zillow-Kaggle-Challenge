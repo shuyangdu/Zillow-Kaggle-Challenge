{
 "cells": [
  {
   "cell_type": "code",
   "execution_count": 24,
   "metadata": {},
   "outputs": [
    {
     "name": "stdout",
     "output_type": "stream",
     "text": [
      "The autoreload extension is already loaded. To reload it, use:\n",
      "  %reload_ext autoreload\n"
     ]
    }
   ],
   "source": [
    "import sys\n",
    "sys.path.append('/Users/shuyangdu/Desktop/ZillowChallenge/zillow-kaggle-challenge')\n",
    "import pandas as pd\n",
    "import numpy as np\n",
    "from matplotlib import pyplot as plt\n",
    "import seaborn as sns\n",
    "from data_process.column_schema import (PROPERTIES_RENAME_DICT, TRANSACTION_RENAME_DICT, \n",
    "                                        NUMERICAL_COLS, CATEGORICAL_COLS)\n",
    "from data_process.data_process_pipeline import DataProcessPipeline\n",
    "from lightgbm import LGBMRegressor\n",
    "from models.tree_models.lgbm import LGBM\n",
    "from sklearn.metrics import mean_absolute_error\n",
    "%load_ext autoreload\n",
    "%autoreload 2\n",
    "%matplotlib inline\n",
    "%config InlineBackend.figure_format = 'retina'"
   ]
  },
  {
   "cell_type": "code",
   "execution_count": 2,
   "metadata": {
    "collapsed": true
   },
   "outputs": [],
   "source": [
    "df_all = pd.read_csv('/Users/shuyangdu/Desktop/ZillowChallenge/data/df_merged.csv')"
   ]
  },
  {
   "cell_type": "code",
   "execution_count": 27,
   "metadata": {
    "collapsed": true
   },
   "outputs": [],
   "source": [
    "data_pipeline = DataProcessPipeline(encode_mode='label')"
   ]
  },
  {
   "cell_type": "code",
   "execution_count": 28,
   "metadata": {},
   "outputs": [],
   "source": [
    "df = data_pipeline.pre_process(df_all)"
   ]
  },
  {
   "cell_type": "code",
   "execution_count": 29,
   "metadata": {
    "collapsed": true
   },
   "outputs": [],
   "source": [
    "iterator = data_pipeline.k_fold(df, 52)"
   ]
  },
  {
   "cell_type": "code",
   "execution_count": 30,
   "metadata": {
    "collapsed": true
   },
   "outputs": [],
   "source": [
    "df_train, df_val = iterator.next()"
   ]
  },
  {
   "cell_type": "code",
   "execution_count": 31,
   "metadata": {
    "collapsed": true
   },
   "outputs": [],
   "source": [
    "df_train = data_pipeline.post_process(df_train, is_train=True)\n",
    "df_val = data_pipeline.post_process(df_val, is_train=False)"
   ]
  },
  {
   "cell_type": "code",
   "execution_count": 32,
   "metadata": {},
   "outputs": [],
   "source": [
    "X_train = df_train[data_pipeline.final_feature_cols].values\n",
    "y_train = df_train[data_pipeline.label_col].values\n",
    "X_val = df_val[data_pipeline.final_feature_cols].values\n",
    "y_val = df_val[data_pipeline.label_col].values"
   ]
  },
  {
   "cell_type": "markdown",
   "metadata": {},
   "source": [
    "# Construct Model"
   ]
  },
  {
   "cell_type": "code",
   "execution_count": 33,
   "metadata": {
    "collapsed": true
   },
   "outputs": [],
   "source": [
    "params = {\n",
    "    'max_bin': 100,\n",
    "    'learning_rate': 0.05,\n",
    "    'boosting_type': 'gbdt',\n",
    "    'objective': 'regression_l1',\n",
    "    'feature_fraction': 0.9,\n",
    "    'bagging_fraction': 0.9,\n",
    "    'num_leaves': 200,\n",
    "    'min_data': 500,\n",
    "    'lambda_l2': 5,\n",
    "    'n_estimators': 50\n",
    "}"
   ]
  },
  {
   "cell_type": "code",
   "execution_count": 34,
   "metadata": {
    "collapsed": true
   },
   "outputs": [],
   "source": [
    "model = LGBM(\n",
    "    feature_name=data_pipeline.original_feature_cols,\n",
    "    categorical_feature=data_pipeline.categorical_cols,\n",
    "    **params\n",
    ")"
   ]
  },
  {
   "cell_type": "code",
   "execution_count": 35,
   "metadata": {
    "collapsed": true
   },
   "outputs": [],
   "source": [
    "model.fit(X_train, y_train)"
   ]
  },
  {
   "cell_type": "code",
   "execution_count": null,
   "metadata": {
    "collapsed": true
   },
   "outputs": [],
   "source": []
  },
  {
   "cell_type": "code",
   "execution_count": 10,
   "metadata": {
    "collapsed": true
   },
   "outputs": [],
   "source": [
    "model = LGBMRegressor(**params)"
   ]
  },
  {
   "cell_type": "code",
   "execution_count": 11,
   "metadata": {
    "scrolled": true
   },
   "outputs": [
    {
     "name": "stdout",
     "output_type": "stream",
     "text": [
      "[1]\tvalid_0's l1: 0.0671474\n",
      "[2]\tvalid_0's l1: 0.0670616\n",
      "[3]\tvalid_0's l1: 0.066982\n",
      "[4]\tvalid_0's l1: 0.0669204\n",
      "[5]\tvalid_0's l1: 0.0668443\n",
      "[6]\tvalid_0's l1: 0.0667752\n",
      "[7]\tvalid_0's l1: 0.0667347\n",
      "[8]\tvalid_0's l1: 0.0666934\n",
      "[9]\tvalid_0's l1: 0.0666488\n",
      "[10]\tvalid_0's l1: 0.0666155\n",
      "[11]\tvalid_0's l1: 0.066592\n",
      "[12]\tvalid_0's l1: 0.0665599\n",
      "[13]\tvalid_0's l1: 0.0665264\n",
      "[14]\tvalid_0's l1: 0.0665024\n",
      "[15]\tvalid_0's l1: 0.0664755\n",
      "[16]\tvalid_0's l1: 0.0664528\n",
      "[17]\tvalid_0's l1: 0.0664354\n",
      "[18]\tvalid_0's l1: 0.0664192\n",
      "[19]\tvalid_0's l1: 0.0663977\n",
      "[20]\tvalid_0's l1: 0.0663751\n",
      "[21]\tvalid_0's l1: 0.0663699\n",
      "[22]\tvalid_0's l1: 0.0663579\n",
      "[23]\tvalid_0's l1: 0.0663349\n",
      "[24]\tvalid_0's l1: 0.0663293\n",
      "[25]\tvalid_0's l1: 0.0663091\n",
      "[26]\tvalid_0's l1: 0.0663112\n",
      "[27]\tvalid_0's l1: 0.0663113\n",
      "[28]\tvalid_0's l1: 0.0662896\n",
      "[29]\tvalid_0's l1: 0.0662922\n",
      "[30]\tvalid_0's l1: 0.066274\n",
      "[31]\tvalid_0's l1: 0.0662652\n",
      "[32]\tvalid_0's l1: 0.0662617\n",
      "[33]\tvalid_0's l1: 0.0662598\n",
      "[34]\tvalid_0's l1: 0.0662567\n",
      "[35]\tvalid_0's l1: 0.0662392\n",
      "[36]\tvalid_0's l1: 0.0662345\n",
      "[37]\tvalid_0's l1: 0.0662333\n",
      "[38]\tvalid_0's l1: 0.0662315\n",
      "[39]\tvalid_0's l1: 0.0662258\n",
      "[40]\tvalid_0's l1: 0.0662171\n",
      "[41]\tvalid_0's l1: 0.066222\n",
      "[42]\tvalid_0's l1: 0.0662176\n",
      "[43]\tvalid_0's l1: 0.0662171\n",
      "[44]\tvalid_0's l1: 0.0662181\n",
      "[45]\tvalid_0's l1: 0.0662117\n",
      "[46]\tvalid_0's l1: 0.0662133\n",
      "[47]\tvalid_0's l1: 0.0662071\n",
      "[48]\tvalid_0's l1: 0.0662137\n",
      "[49]\tvalid_0's l1: 0.0662137\n",
      "[50]\tvalid_0's l1: 0.0662135\n"
     ]
    },
    {
     "data": {
      "text/plain": [
       "LGBMRegressor(bagging_fraction=0.9, boosting_type='gbdt', colsample_bytree=1,\n",
       "       feature_fraction=0.9, lambda_l2=5, learning_rate=0.05, max_bin=100,\n",
       "       max_depth=-1, min_child_samples=10, min_child_weight=5,\n",
       "       min_data=500, min_split_gain=0, n_estimators=50, nthread=-1,\n",
       "       num_leaves=200, objective='regression_l1', reg_alpha=0,\n",
       "       reg_lambda=0, seed=0, silent=True, subsample=1,\n",
       "       subsample_for_bin=50000, subsample_freq=1)"
      ]
     },
     "execution_count": 11,
     "metadata": {},
     "output_type": "execute_result"
    }
   ],
   "source": [
    "model.fit(X_train, y_train, eval_set=[(X_val, y_val)], eval_metric='l1')"
   ]
  },
  {
   "cell_type": "code",
   "execution_count": 12,
   "metadata": {
    "collapsed": true
   },
   "outputs": [],
   "source": [
    "y_pred = model.predict(X_val)"
   ]
  },
  {
   "cell_type": "code",
   "execution_count": 13,
   "metadata": {},
   "outputs": [
    {
     "data": {
      "text/plain": [
       "0.066213533816818729"
      ]
     },
     "execution_count": 13,
     "metadata": {},
     "output_type": "execute_result"
    }
   ],
   "source": [
    "mean_absolute_error(y_val, y_pred)"
   ]
  },
  {
   "cell_type": "code",
   "execution_count": 24,
   "metadata": {
    "collapsed": true
   },
   "outputs": [],
   "source": [
    "categorical_col_idx = []\n",
    "for i in range(len(data_pipeline.feature_cols)):\n",
    "    if data_pipeline.feature_cols[i] in CATEGORICAL_COLS:\n",
    "        categorical_col_idx.append(i)"
   ]
  },
  {
   "cell_type": "code",
   "execution_count": 25,
   "metadata": {},
   "outputs": [
    {
     "data": {
      "text/plain": [
       "[31, 32, 33, 34, 35, 36, 37, 38, 39, 40, 41, 42, 43, 44, 45, 46, 47]"
      ]
     },
     "execution_count": 25,
     "metadata": {},
     "output_type": "execute_result"
    }
   ],
   "source": [
    "categorical_col_idx"
   ]
  },
  {
   "cell_type": "code",
   "execution_count": 14,
   "metadata": {},
   "outputs": [
    {
     "data": {
      "text/plain": [
       "LGBMRegressor(bagging_fraction=0.9, boosting_type='gbdt', colsample_bytree=1,\n",
       "       feature_fraction=0.9, lambda_l2=5, learning_rate=0.05, max_bin=100,\n",
       "       max_depth=-1, min_child_samples=10, min_child_weight=5,\n",
       "       min_data=500, min_split_gain=0, n_estimators=50, nthread=-1,\n",
       "       num_leaves=200, objective='regression_l1', reg_alpha=0,\n",
       "       reg_lambda=0, seed=0, silent=True, subsample=1,\n",
       "       subsample_for_bin=50000, subsample_freq=1)"
      ]
     },
     "execution_count": 14,
     "metadata": {},
     "output_type": "execute_result"
    }
   ],
   "source": [
    "model.fit(df_train[data_pipeline.final_feature_cols], y_train,\n",
    "          categorical_feature=CATEGORICAL_COLS)"
   ]
  },
  {
   "cell_type": "code",
   "execution_count": 36,
   "metadata": {
    "collapsed": true
   },
   "outputs": [],
   "source": [
    "y_pred = model.predict(X_val)"
   ]
  },
  {
   "cell_type": "code",
   "execution_count": 37,
   "metadata": {},
   "outputs": [
    {
     "data": {
      "text/plain": [
       "0.066071034977829346"
      ]
     },
     "execution_count": 37,
     "metadata": {},
     "output_type": "execute_result"
    }
   ],
   "source": [
    "mean_absolute_error(y_val, y_pred)"
   ]
  },
  {
   "cell_type": "code",
   "execution_count": null,
   "metadata": {
    "collapsed": true
   },
   "outputs": [],
   "source": []
  }
 ],
 "metadata": {
  "kernelspec": {
   "display_name": "Python 2",
   "language": "python",
   "name": "python2"
  },
  "language_info": {
   "codemirror_mode": {
    "name": "ipython",
    "version": 2
   },
   "file_extension": ".py",
   "mimetype": "text/x-python",
   "name": "python",
   "nbconvert_exporter": "python",
   "pygments_lexer": "ipython2",
   "version": "2.7.13"
  }
 },
 "nbformat": 4,
 "nbformat_minor": 2
}
