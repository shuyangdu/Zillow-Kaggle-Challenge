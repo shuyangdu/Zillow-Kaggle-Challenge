{
 "cells": [
  {
   "cell_type": "code",
   "execution_count": 1,
   "metadata": {},
   "outputs": [
    {
     "name": "stderr",
     "output_type": "stream",
     "text": [
      "Using TensorFlow backend.\n"
     ]
    }
   ],
   "source": [
    "import sys\n",
    "sys.path.append('/Users/shuyangdu/Desktop/ZillowChallenge/zillow-kaggle-challenge')\n",
    "import pandas as pd\n",
    "import numpy as np\n",
    "from matplotlib import pyplot as plt\n",
    "import seaborn as sns\n",
    "from data_process.column_schema import (PROPERTIES_RENAME_DICT, TRANSACTION_RENAME_DICT, \n",
    "                                        NUMERICAL_COLS, CATEGORICAL_COLS)\n",
    "from data_process.data_process_pipeline import DataProcessPipeline\n",
    "from models.nn_models.dnn import DNN\n",
    "%load_ext autoreload\n",
    "%autoreload 2\n",
    "%matplotlib inline\n",
    "%config InlineBackend.figure_format = 'retina'"
   ]
  },
  {
   "cell_type": "code",
   "execution_count": 2,
   "metadata": {
    "collapsed": true
   },
   "outputs": [],
   "source": [
    "df_all = pd.read_csv('/Users/shuyangdu/Desktop/ZillowChallenge/data/df_merged.csv')"
   ]
  },
  {
   "cell_type": "code",
   "execution_count": 3,
   "metadata": {
    "collapsed": true
   },
   "outputs": [],
   "source": [
    "data_pipeline = DataProcessPipeline(encode_mode='numeric')"
   ]
  },
  {
   "cell_type": "code",
   "execution_count": 4,
   "metadata": {
    "collapsed": true
   },
   "outputs": [],
   "source": [
    "df = data_pipeline.pre_process(df_all)"
   ]
  },
  {
   "cell_type": "code",
   "execution_count": 5,
   "metadata": {
    "collapsed": true
   },
   "outputs": [],
   "source": [
    "iterator = data_pipeline.k_fold(df, 52)"
   ]
  },
  {
   "cell_type": "code",
   "execution_count": 6,
   "metadata": {
    "collapsed": true
   },
   "outputs": [],
   "source": [
    "df_train, df_val = iterator.next()"
   ]
  },
  {
   "cell_type": "code",
   "execution_count": 7,
   "metadata": {
    "collapsed": true
   },
   "outputs": [],
   "source": [
    "df_train = data_pipeline.post_process(df_train, is_train=True)\n",
    "df_val = data_pipeline.post_process(df_val, is_train=False)"
   ]
  },
  {
   "cell_type": "code",
   "execution_count": 8,
   "metadata": {
    "collapsed": true
   },
   "outputs": [],
   "source": [
    "X_train = df_train[data_pipeline.final_feature_cols].values\n",
    "y_train = df_train[data_pipeline.label_col].values\n",
    "X_val = df_val[data_pipeline.final_feature_cols].values\n",
    "y_val = df_val[data_pipeline.label_col].values"
   ]
  },
  {
   "cell_type": "code",
   "execution_count": 10,
   "metadata": {
    "collapsed": true
   },
   "outputs": [],
   "source": [
    "model = DNN(dim_hidden_lst=[30], learning_rate=0.01, decay=0.0001,\n",
    "            batch_size=128, epochs=5, verbose=2)"
   ]
  },
  {
   "cell_type": "code",
   "execution_count": 12,
   "metadata": {},
   "outputs": [
    {
     "name": "stdout",
     "output_type": "stream",
     "text": [
      "Train on 72220 samples, validate on 18055 samples\n",
      "Epoch 1/5\n",
      "1s - loss: 0.0353 - mean_absolute_error: 0.0689 - val_loss: 0.0243 - val_mean_absolute_error: 0.0672\n",
      "Epoch 2/5\n",
      "1s - loss: 0.0265 - mean_absolute_error: 0.0688 - val_loss: 0.0243 - val_mean_absolute_error: 0.0672\n",
      "Epoch 3/5\n",
      "1s - loss: 0.0265 - mean_absolute_error: 0.0688 - val_loss: 0.0243 - val_mean_absolute_error: 0.0672\n",
      "Epoch 4/5\n",
      "1s - loss: 0.0265 - mean_absolute_error: 0.0688 - val_loss: 0.0243 - val_mean_absolute_error: 0.0672\n",
      "Epoch 5/5\n",
      "1s - loss: 0.0265 - mean_absolute_error: 0.0688 - val_loss: 0.0243 - val_mean_absolute_error: 0.0672\n"
     ]
    }
   ],
   "source": [
    "model.fit(X=X_train, y=y_train, validation_data=(X_val, y_val))"
   ]
  },
  {
   "cell_type": "code",
   "execution_count": null,
   "metadata": {
    "collapsed": true
   },
   "outputs": [],
   "source": []
  },
  {
   "cell_type": "code",
   "execution_count": null,
   "metadata": {
    "collapsed": true
   },
   "outputs": [],
   "source": []
  }
 ],
 "metadata": {
  "kernelspec": {
   "display_name": "Python 2",
   "language": "python",
   "name": "python2"
  },
  "language_info": {
   "codemirror_mode": {
    "name": "ipython",
    "version": 2
   },
   "file_extension": ".py",
   "mimetype": "text/x-python",
   "name": "python",
   "nbconvert_exporter": "python",
   "pygments_lexer": "ipython2",
   "version": "2.7.13"
  }
 },
 "nbformat": 4,
 "nbformat_minor": 2
}
