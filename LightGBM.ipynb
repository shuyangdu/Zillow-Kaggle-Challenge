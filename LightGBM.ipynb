{
 "cells": [
  {
   "cell_type": "code",
   "execution_count": 11,
   "metadata": {},
   "outputs": [
    {
     "name": "stdout",
     "output_type": "stream",
     "text": [
      "The autoreload extension is already loaded. To reload it, use:\n",
      "  %reload_ext autoreload\n"
     ]
    }
   ],
   "source": [
    "import pandas as pd\n",
    "import numpy as np\n",
    "from matplotlib import pyplot as plt\n",
    "import seaborn as sns\n",
    "from data_process.column_schema import (PROPERTIES_RENAME_DICT, TRANSACTION_RENAME_DICT, \n",
    "                                        NUMERICAL_COLS, CATEGORICAL_COLS)\n",
    "from data_process.data_process_pipeline import DataProcessPipeline\n",
    "from lightgbm import LGBMRegressor\n",
    "from sklearn.metrics import mean_absolute_error\n",
    "%load_ext autoreload\n",
    "%autoreload 2\n",
    "%matplotlib inline\n",
    "%config InlineBackend.figure_format = 'retina'"
   ]
  },
  {
   "cell_type": "code",
   "execution_count": 2,
   "metadata": {
    "collapsed": true
   },
   "outputs": [],
   "source": [
    "df_all = pd.read_csv('/Users/shuyangdu/Desktop/ZillowChallenge/data/df_merged.csv')"
   ]
  },
  {
   "cell_type": "code",
   "execution_count": 3,
   "metadata": {
    "collapsed": true
   },
   "outputs": [],
   "source": [
    "data_pipeline = DataProcessPipeline(encode_mode='label')"
   ]
  },
  {
   "cell_type": "code",
   "execution_count": 4,
   "metadata": {
    "collapsed": true
   },
   "outputs": [],
   "source": [
    "df = data_pipeline.pre_process(df_all)"
   ]
  },
  {
   "cell_type": "code",
   "execution_count": 5,
   "metadata": {
    "collapsed": true
   },
   "outputs": [],
   "source": [
    "iterator = data_pipeline.k_fold(df, 52)"
   ]
  },
  {
   "cell_type": "code",
   "execution_count": 6,
   "metadata": {
    "collapsed": true
   },
   "outputs": [],
   "source": [
    "df_train, df_val = iterator.next()"
   ]
  },
  {
   "cell_type": "code",
   "execution_count": 7,
   "metadata": {},
   "outputs": [],
   "source": [
    "df_train = data_pipeline.post_process(df_train, is_train=True)\n",
    "df_val = data_pipeline.post_process(df_val, is_train=False)"
   ]
  },
  {
   "cell_type": "code",
   "execution_count": 9,
   "metadata": {
    "collapsed": true
   },
   "outputs": [],
   "source": [
    "X_train = df_train[data_pipeline.feature_cols].values\n",
    "y_train = df_train[data_pipeline.label_col].values\n",
    "X_val = df_val[data_pipeline.feature_cols].values\n",
    "y_val = df_val[data_pipeline.label_col].values"
   ]
  },
  {
   "cell_type": "markdown",
   "metadata": {},
   "source": [
    "# Construct Model"
   ]
  },
  {
   "cell_type": "code",
   "execution_count": 78,
   "metadata": {
    "collapsed": true
   },
   "outputs": [],
   "source": [
    "model = LGBMRegressor(objective='regression_l1', n_estimators=50, num_leaves=55, learning_rate=0.05,\n",
    "                      feature_fraction=1.0, bagging_freq=6, bagging_fraction=0.7, lambda_l2=27)"
   ]
  },
  {
   "cell_type": "code",
   "execution_count": 77,
   "metadata": {
    "scrolled": true
   },
   "outputs": [
    {
     "name": "stdout",
     "output_type": "stream",
     "text": [
      "[1]\tvalid_0's l1: 0.0671784\n",
      "[2]\tvalid_0's l1: 0.0671055\n",
      "[3]\tvalid_0's l1: 0.0670476\n",
      "[4]\tvalid_0's l1: 0.0669909\n",
      "[5]\tvalid_0's l1: 0.0669418\n",
      "[6]\tvalid_0's l1: 0.0668945\n",
      "[7]\tvalid_0's l1: 0.0668554\n",
      "[8]\tvalid_0's l1: 0.0668182\n",
      "[9]\tvalid_0's l1: 0.0667895\n",
      "[10]\tvalid_0's l1: 0.0667585\n",
      "[11]\tvalid_0's l1: 0.0667018\n",
      "[12]\tvalid_0's l1: 0.0666773\n",
      "[13]\tvalid_0's l1: 0.0666504\n",
      "[14]\tvalid_0's l1: 0.0666217\n",
      "[15]\tvalid_0's l1: 0.0666015\n",
      "[16]\tvalid_0's l1: 0.0665803\n",
      "[17]\tvalid_0's l1: 0.0665636\n",
      "[18]\tvalid_0's l1: 0.06655\n",
      "[19]\tvalid_0's l1: 0.0665436\n",
      "[20]\tvalid_0's l1: 0.0665378\n",
      "[21]\tvalid_0's l1: 0.0665186\n",
      "[22]\tvalid_0's l1: 0.0665018\n",
      "[23]\tvalid_0's l1: 0.0664879\n",
      "[24]\tvalid_0's l1: 0.0664724\n",
      "[25]\tvalid_0's l1: 0.0664626\n",
      "[26]\tvalid_0's l1: 0.0664524\n",
      "[27]\tvalid_0's l1: 0.0664408\n",
      "[28]\tvalid_0's l1: 0.06643\n",
      "[29]\tvalid_0's l1: 0.0664346\n",
      "[30]\tvalid_0's l1: 0.0664239\n",
      "[31]\tvalid_0's l1: 0.0664178\n",
      "[32]\tvalid_0's l1: 0.066416\n",
      "[33]\tvalid_0's l1: 0.066412\n",
      "[34]\tvalid_0's l1: 0.0664072\n",
      "[35]\tvalid_0's l1: 0.0663984\n",
      "[36]\tvalid_0's l1: 0.0663896\n",
      "[37]\tvalid_0's l1: 0.0663851\n",
      "[38]\tvalid_0's l1: 0.066386\n",
      "[39]\tvalid_0's l1: 0.0663953\n",
      "[40]\tvalid_0's l1: 0.0663861\n",
      "[41]\tvalid_0's l1: 0.0663833\n",
      "[42]\tvalid_0's l1: 0.0663784\n",
      "[43]\tvalid_0's l1: 0.066379\n",
      "[44]\tvalid_0's l1: 0.0663753\n",
      "[45]\tvalid_0's l1: 0.0663702\n",
      "[46]\tvalid_0's l1: 0.0663744\n",
      "[47]\tvalid_0's l1: 0.066403\n",
      "[48]\tvalid_0's l1: 0.0664113\n",
      "[49]\tvalid_0's l1: 0.066399\n",
      "[50]\tvalid_0's l1: 0.0664228\n"
     ]
    },
    {
     "data": {
      "text/plain": [
       "LGBMRegressor(bagging_fraction=0.8, bagging_freq=5, boosting_type='gbdt',\n",
       "       colsample_bytree=1, feature_fraction=1.0, learning_rate=0.05,\n",
       "       max_bin=255, max_depth=-1, min_child_samples=10, min_child_weight=5,\n",
       "       min_split_gain=0, n_estimators=50, nthread=-1, num_leaves=31,\n",
       "       objective='regression_l1', reg_alpha=0, reg_lambda=0, seed=0,\n",
       "       silent=True, subsample=1, subsample_for_bin=50000, subsample_freq=1)"
      ]
     },
     "execution_count": 77,
     "metadata": {},
     "output_type": "execute_result"
    }
   ],
   "source": [
    "model.fit(X_train, y_train, eval_set=[(X_val, y_val)], eval_metric='l1')"
   ]
  },
  {
   "cell_type": "code",
   "execution_count": 43,
   "metadata": {
    "collapsed": true
   },
   "outputs": [],
   "source": [
    "y_pred = model.predict(X_val)"
   ]
  },
  {
   "cell_type": "code",
   "execution_count": 44,
   "metadata": {},
   "outputs": [
    {
     "data": {
      "text/plain": [
       "0.066439949328684508"
      ]
     },
     "execution_count": 44,
     "metadata": {},
     "output_type": "execute_result"
    }
   ],
   "source": [
    "mean_absolute_error(y_val, y_pred)"
   ]
  },
  {
   "cell_type": "code",
   "execution_count": 45,
   "metadata": {},
   "outputs": [
    {
     "data": {
      "text/plain": [
       "LGBMRegressor(boosting_type='gbdt', colsample_bytree=1, learning_rate=0.05,\n",
       "       max_bin=255, max_depth=-1, min_child_samples=10, min_child_weight=5,\n",
       "       min_split_gain=0, n_estimators=30, nthread=-1, num_leaves=31,\n",
       "       objective='regression_l1', reg_alpha=0, reg_lambda=0, seed=0,\n",
       "       silent=True, subsample=1, subsample_for_bin=50000, subsample_freq=1)"
      ]
     },
     "execution_count": 45,
     "metadata": {},
     "output_type": "execute_result"
    }
   ],
   "source": [
    "model.fit(df_train[data_pipeline.feature_cols], df_train[data_pipeline.label_col],\n",
    "          feature_name = data_pipeline.feature_cols,\n",
    "          categorical_feature=CATEGORICAL_COLS)"
   ]
  },
  {
   "cell_type": "code",
   "execution_count": 46,
   "metadata": {
    "collapsed": true
   },
   "outputs": [],
   "source": [
    "y_pred = model.predict(X_val)"
   ]
  },
  {
   "cell_type": "code",
   "execution_count": 47,
   "metadata": {},
   "outputs": [
    {
     "data": {
      "text/plain": [
       "0.06663904309064908"
      ]
     },
     "execution_count": 47,
     "metadata": {},
     "output_type": "execute_result"
    }
   ],
   "source": [
    "mean_absolute_error(y_val, y_pred)"
   ]
  },
  {
   "cell_type": "code",
   "execution_count": null,
   "metadata": {
    "collapsed": true
   },
   "outputs": [],
   "source": []
  }
 ],
 "metadata": {
  "kernelspec": {
   "display_name": "Python 2",
   "language": "python",
   "name": "python2"
  },
  "language_info": {
   "codemirror_mode": {
    "name": "ipython",
    "version": 2
   },
   "file_extension": ".py",
   "mimetype": "text/x-python",
   "name": "python",
   "nbconvert_exporter": "python",
   "pygments_lexer": "ipython2",
   "version": "2.7.13"
  }
 },
 "nbformat": 4,
 "nbformat_minor": 2
}
