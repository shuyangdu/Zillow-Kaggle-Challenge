{
 "cells": [
  {
   "cell_type": "markdown",
   "metadata": {},
   "source": [
    "# Hyper-parameter Optimization\n",
    "Wrap __[hyperopt](https://hyperopt.github.io/hyperopt/)__ into **HyperParameterOpt** to do hyper-parameter optimization. Use random search and logged the parameters have been searched."
   ]
  },
  {
   "cell_type": "code",
   "execution_count": 1,
   "metadata": {},
   "outputs": [
    {
     "name": "stderr",
     "output_type": "stream",
     "text": [
      "Using TensorFlow backend.\n"
     ]
    }
   ],
   "source": [
    "import pandas as pd\n",
    "import numpy as np\n",
    "from matplotlib import pyplot as plt\n",
    "import seaborn as sns\n",
    "from hyperopt import hp, fmin, tpe, Trials, space_eval, STATUS_OK\n",
    "# from schema.columns_added_filled import LABEL_COL, NUMERICAL_COLS, CATEGORICAL_COLS, LOG_COLS\n",
    "from schema.columns_added import LABEL_COL, NUMERICAL_COLS, CATEGORICAL_COLS, LOG_COLS\n",
    "from data_process.data_transform_processor import DataTransformProcessor\n",
    "from models.nn_models.dnn import DNN\n",
    "from lightgbm import LGBMRegressor\n",
    "from sklearn.linear_model import ElasticNet\n",
    "from models.tree_models.lgbm import LGBM\n",
    "from models.hyperparameter_opt import HyperParameterOpt\n",
    "%load_ext autoreload\n",
    "%autoreload 2\n",
    "%matplotlib inline\n",
    "%config InlineBackend.figure_format = 'retina'"
   ]
  },
  {
   "cell_type": "markdown",
   "metadata": {},
   "source": [
    "# Prepare data"
   ]
  },
  {
   "cell_type": "code",
   "execution_count": 2,
   "metadata": {
    "collapsed": true
   },
   "outputs": [],
   "source": [
    "df_all = pd.read_csv('/Users/shuyangdu/Desktop/ZillowChallenge/data/df_merged_20171008.csv')"
   ]
  },
  {
   "cell_type": "code",
   "execution_count": 3,
   "metadata": {
    "collapsed": true
   },
   "outputs": [],
   "source": [
    "data_processor_dct = {\n",
    "    'dummy': DataTransformProcessor(\n",
    "    use_dummy=True, use_scale=True,\n",
    "    numerical_cols=NUMERICAL_COLS, \n",
    "    categorical_cols=CATEGORICAL_COLS,\n",
    "    log_cols=LOG_COLS, \n",
    "    label_col=LABEL_COL,\n",
    "),\n",
    "    'tree': DataTransformProcessor(\n",
    "    numerical_cols=NUMERICAL_COLS, \n",
    "    categorical_cols=CATEGORICAL_COLS,\n",
    "    log_cols=LOG_COLS, \n",
    "    label_col=LABEL_COL,\n",
    "),\n",
    "    'dummy_pca': DataTransformProcessor(\n",
    "    use_dummy=True, use_scale=True, use_pca=True,\n",
    "    numerical_cols=NUMERICAL_COLS, \n",
    "    categorical_cols=CATEGORICAL_COLS,\n",
    "    log_cols=LOG_COLS, \n",
    "    label_col=LABEL_COL,\n",
    "),\n",
    "    'tree_pca': DataTransformProcessor(\n",
    "    use_scale=True, use_pca=True,\n",
    "    numerical_cols=NUMERICAL_COLS, \n",
    "    categorical_cols=CATEGORICAL_COLS,\n",
    "    log_cols=LOG_COLS, \n",
    "    label_col=LABEL_COL,\n",
    "),\n",
    "}"
   ]
  },
  {
   "cell_type": "code",
   "execution_count": 4,
   "metadata": {
    "collapsed": true
   },
   "outputs": [],
   "source": [
    "# use all data_processors to pre process to get categorical idx\n",
    "for processor in data_processor_dct.values():\n",
    "    X_all = processor.pre_process(df_all)\n",
    "y_all = df_all['logerror'].values"
   ]
  },
  {
   "cell_type": "markdown",
   "metadata": {},
   "source": [
    "# Define search space"
   ]
  },
  {
   "cell_type": "markdown",
   "metadata": {},
   "source": [
    "## Search space for DNN"
   ]
  },
  {
   "cell_type": "code",
   "execution_count": 5,
   "metadata": {
    "collapsed": true
   },
   "outputs": [],
   "source": [
    "space_dnn = {\n",
    "    'learning_rate': hp.loguniform('learning_rate', -4*np.log(10), -1*np.log(10)),\n",
    "    'reg': hp.loguniform('reg', -4*np.log(10), -1*np.log(10)),\n",
    "    'decay': hp.loguniform('decay', -1*np.log(10), -3*np.log(10)),\n",
    "#     'dim_hidden_lst': hp.choice('dim_hidden_lst', [(20,), (30,)]),\n",
    "}"
   ]
  },
  {
   "cell_type": "markdown",
   "metadata": {},
   "source": [
    "## Search space for LightGBM"
   ]
  },
  {
   "cell_type": "code",
   "execution_count": 6,
   "metadata": {
    "collapsed": true
   },
   "outputs": [],
   "source": [
    "space_gbdt = {\n",
    "    'learning_rate': hp.loguniform('learning_rate', -2*np.log(10), -1*np.log(10)),  # 1e-2 ~ 1e-1\n",
    "    'n_estimators': 50 * (4 + hp.randint('n_estimators', 7)),  # 200 ~ 500\n",
    "    'num_leaves': 20 * (2 + hp.randint('num_leaves', 14)),  # 40 ~ 300\n",
    "    'lambda_l2': hp.loguniform('lambda_l2', -3*np.log(10), 2*np.log(10)),  # 1e-3 ~ 1e2\n",
    "    'feature_fraction': hp.uniform('feature_fraction', 0.5, 1.0),  #  0.5 ~ 1.0\n",
    "    'bagging_freq': 10 * (2 + hp.randint('bagging_freq', 7)),  # 20 ~ 80\n",
    "    'bagging_fraction': hp.uniform('bagging_fraction', 0.5, 1.0),\n",
    "    'max_bin': 40 * (1 + hp.randint('max_bin', 5)),  # 40 ~ 200\n",
    "}\n",
    "\n",
    "space_dart = space_gbdt.copy()\n",
    "space_dart.update({\n",
    "    'drop_rate': hp.uniform('drop_rate', 0.0, 1.0),  #  0.0 ~ 1.0\n",
    "    'skip_drop':hp.uniform('skip_drop', 0.0, 1.0),  #  0.0 ~ 1.0,\n",
    "})\n",
    "                              \n",
    "fixed_params_gbdt_l1 = {\n",
    "    'objective': 'regression_l1',\n",
    "    'boosting_type': 'gbdt',\n",
    "    'categorical_feature': data_processor_dct['tree'].categorical_col_idx,\n",
    "}\n",
    "\n",
    "fixed_params_gbdt_l2 = {\n",
    "    'objective': 'regression_l2',\n",
    "    'boosting_type': 'gbdt',\n",
    "    'categorical_feature': data_processor_dct['tree'].categorical_col_idx,\n",
    "}\n",
    "\n",
    "fixed_params_dart_l1 = {\n",
    "    'objective': 'regression_l1',\n",
    "    'boosting_type': 'dart',\n",
    "    'categorical_feature': data_processor_dct['tree'].categorical_col_idx,\n",
    "}"
   ]
  },
  {
   "cell_type": "markdown",
   "metadata": {},
   "source": [
    "## Search space for Linear Regression ElasticNet"
   ]
  },
  {
   "cell_type": "code",
   "execution_count": 7,
   "metadata": {
    "collapsed": true
   },
   "outputs": [],
   "source": [
    "space_eln = {\n",
    "    'alpha': hp.loguniform('alpha', -2*np.log(10), 2*np.log(10)),\n",
    "    'l1_ratio': hp.uniform('l1_ratio', 0.0, 1.0),\n",
    "}"
   ]
  },
  {
   "cell_type": "markdown",
   "metadata": {},
   "source": [
    "# Optimize for hyper-parameters"
   ]
  },
  {
   "cell_type": "code",
   "execution_count": 11,
   "metadata": {
    "collapsed": true
   },
   "outputs": [],
   "source": [
    "hyper_opt = HyperParameterOpt(\n",
    "    model_class=LGBM, \n",
    "    data_processor=data_processor_dct['tree'],                           \n",
    "    search_space=space_dart,\n",
    "    fixed_params=fixed_params_dart_l1,\n",
    "    max_evals=1,\n",
    "    max_workers=3,\n",
    ")"
   ]
  },
  {
   "cell_type": "code",
   "execution_count": 9,
   "metadata": {
    "scrolled": false
   },
   "outputs": [
    {
     "name": "stdout",
     "output_type": "stream",
     "text": [
      "Single CV finished\n",
      "Single CV finished\n",
      "CPU times: user 42.7 s, sys: 5.03 s, total: 47.8 s\n",
      "Wall time: 10min 6s\n"
     ]
    }
   ],
   "source": [
    "%%time\n",
    "hyper_opt.optimize(X_all, y_all, 12)"
   ]
  },
  {
   "cell_type": "code",
   "execution_count": 10,
   "metadata": {
    "scrolled": false
   },
   "outputs": [
    {
     "data": {
      "text/html": [
       "<div>\n",
       "<style>\n",
       "    .dataframe thead tr:only-child th {\n",
       "        text-align: right;\n",
       "    }\n",
       "\n",
       "    .dataframe thead th {\n",
       "        text-align: left;\n",
       "    }\n",
       "\n",
       "    .dataframe tbody tr th {\n",
       "        vertical-align: top;\n",
       "    }\n",
       "</style>\n",
       "<table border=\"1\" class=\"dataframe\">\n",
       "  <thead>\n",
       "    <tr style=\"text-align: right;\">\n",
       "      <th></th>\n",
       "      <th>bagging_fraction</th>\n",
       "      <th>bagging_freq</th>\n",
       "      <th>drop_rate</th>\n",
       "      <th>feature_fraction</th>\n",
       "      <th>lambda_l2</th>\n",
       "      <th>learning_rate</th>\n",
       "      <th>max_bin</th>\n",
       "      <th>n_estimators</th>\n",
       "      <th>num_leaves</th>\n",
       "      <th>skip_drop</th>\n",
       "      <th>loss</th>\n",
       "      <th>status</th>\n",
       "    </tr>\n",
       "  </thead>\n",
       "  <tbody>\n",
       "    <tr>\n",
       "      <th>0</th>\n",
       "      <td>0.881303</td>\n",
       "      <td>30</td>\n",
       "      <td>0.016036</td>\n",
       "      <td>0.665611</td>\n",
       "      <td>0.001598</td>\n",
       "      <td>0.028196</td>\n",
       "      <td>120</td>\n",
       "      <td>500</td>\n",
       "      <td>40</td>\n",
       "      <td>0.438654</td>\n",
       "      <td>0.068013</td>\n",
       "      <td>ok</td>\n",
       "    </tr>\n",
       "    <tr>\n",
       "      <th>1</th>\n",
       "      <td>0.779171</td>\n",
       "      <td>60</td>\n",
       "      <td>0.407397</td>\n",
       "      <td>0.516337</td>\n",
       "      <td>34.733410</td>\n",
       "      <td>0.013598</td>\n",
       "      <td>200</td>\n",
       "      <td>500</td>\n",
       "      <td>40</td>\n",
       "      <td>0.492943</td>\n",
       "      <td>0.068245</td>\n",
       "      <td>ok</td>\n",
       "    </tr>\n",
       "  </tbody>\n",
       "</table>\n",
       "</div>"
      ],
      "text/plain": [
       "   bagging_fraction  bagging_freq  drop_rate  feature_fraction  lambda_l2  \\\n",
       "0          0.881303            30   0.016036          0.665611   0.001598   \n",
       "1          0.779171            60   0.407397          0.516337  34.733410   \n",
       "\n",
       "   learning_rate  max_bin  n_estimators  num_leaves  skip_drop      loss  \\\n",
       "0       0.028196      120           500          40   0.438654  0.068013   \n",
       "1       0.013598      200           500          40   0.492943  0.068245   \n",
       "\n",
       "  status  \n",
       "0     ok  \n",
       "1     ok  "
      ]
     },
     "execution_count": 10,
     "metadata": {},
     "output_type": "execute_result"
    }
   ],
   "source": [
    "hyper_opt.trial_results"
   ]
  },
  {
   "cell_type": "markdown",
   "metadata": {
    "collapsed": true
   },
   "source": [
    "# Save opt log history"
   ]
  },
  {
   "cell_type": "code",
   "execution_count": 11,
   "metadata": {
    "collapsed": true
   },
   "outputs": [],
   "source": [
    "hyper_opt.trial_results.to_csv(\n",
    "    '/Users/shuyangdu/Desktop/ZillowChallenge/hyper-parameter-opt/dart_l1_added_features_201701008.csv',\n",
    ")"
   ]
  },
  {
   "cell_type": "code",
   "execution_count": null,
   "metadata": {
    "collapsed": true
   },
   "outputs": [],
   "source": []
  },
  {
   "cell_type": "code",
   "execution_count": null,
   "metadata": {
    "collapsed": true
   },
   "outputs": [],
   "source": []
  }
 ],
 "metadata": {
  "kernelspec": {
   "display_name": "Python 2",
   "language": "python",
   "name": "python2"
  },
  "language_info": {
   "codemirror_mode": {
    "name": "ipython",
    "version": 2
   },
   "file_extension": ".py",
   "mimetype": "text/x-python",
   "name": "python",
   "nbconvert_exporter": "python",
   "pygments_lexer": "ipython2",
   "version": "2.7.13"
  }
 },
 "nbformat": 4,
 "nbformat_minor": 2
}
