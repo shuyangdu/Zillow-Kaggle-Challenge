{
 "cells": [
  {
   "cell_type": "code",
   "execution_count": 1,
   "metadata": {},
   "outputs": [
    {
     "name": "stderr",
     "output_type": "stream",
     "text": [
      "Using TensorFlow backend.\n"
     ]
    }
   ],
   "source": [
    "import pandas as pd\n",
    "import numpy as np\n",
    "from matplotlib import pyplot as plt\n",
    "import seaborn as sns\n",
    "from hyperopt import hp, fmin, tpe, Trials, space_eval, STATUS_OK\n",
    "from data_process.column_schema import (PROPERTIES_RENAME_DICT, TRANSACTION_RENAME_DICT, \n",
    "                                        NUMERICAL_COLS, CATEGORICAL_COLS)\n",
    "from data_process.data_transformer import TransformerNumerical, TransformerCategorical\n",
    "from data_process.data_transform_processor import DataProcessor\n",
    "from models.nn_models.dnn import DNN\n",
    "from lightgbm import LGBMRegressor\n",
    "from sklearn.linear_model import ElasticNet, LinearRegression, Ridge\n",
    "from models.tree_models.lgbm import LGBM\n",
    "from mlens.ensemble import SuperLearner\n",
    "from sklearn.metrics import mean_absolute_error\n",
    "%load_ext autoreload\n",
    "%autoreload 2\n",
    "%matplotlib inline\n",
    "%config InlineBackend.figure_format = 'retina'"
   ]
  },
  {
   "cell_type": "code",
   "execution_count": 2,
   "metadata": {
    "collapsed": true
   },
   "outputs": [],
   "source": [
    "df_all = pd.read_csv('/Users/shuyangdu/Desktop/ZillowChallenge/data/df_merged.csv')"
   ]
  },
  {
   "cell_type": "code",
   "execution_count": 3,
   "metadata": {
    "collapsed": true
   },
   "outputs": [],
   "source": [
    "X_all = DataProcessor.pre_process(df_all)"
   ]
  },
  {
   "cell_type": "code",
   "execution_count": 4,
   "metadata": {
    "collapsed": true
   },
   "outputs": [],
   "source": [
    "y_all = df_all['logerror'].values"
   ]
  },
  {
   "cell_type": "code",
   "execution_count": 5,
   "metadata": {
    "collapsed": true
   },
   "outputs": [],
   "source": [
    "data_processor_dummy = DataProcessor(use_dummy=True, use_scale=True)\n",
    "data_processor = DataProcessor()"
   ]
  },
  {
   "cell_type": "code",
   "execution_count": 6,
   "metadata": {
    "collapsed": true
   },
   "outputs": [],
   "source": [
    "params = {\n",
    "    'max_bin': 80,\n",
    "    'learning_rate': 0.0116,\n",
    "    'boosting_type': 'gbdt',\n",
    "    'objective': 'regression_l1',\n",
    "    'feature_fraction': 0.94,\n",
    "    'bagging_fraction': 0.85,\n",
    "    'bagging_freq': 80,\n",
    "    'num_leaves': 110,\n",
    "    'lambda_l2': 86.9,\n",
    "    'n_estimators': 250,\n",
    "    'nthread': 1,\n",
    "}\n",
    "model_lgbm = LGBMRegressor(\n",
    "    categorical_feature = data_processor.categorical_col_idx,\n",
    "    **params\n",
    ")"
   ]
  },
  {
   "cell_type": "code",
   "execution_count": 7,
   "metadata": {
    "collapsed": true
   },
   "outputs": [],
   "source": [
    "params = {\n",
    "    'max_bin': 80,\n",
    "    'learning_rate': 0.0116,\n",
    "    'boosting_type': 'gbdt',\n",
    "    'objective': 'regression_l1',\n",
    "    'feature_fraction': 0.94,\n",
    "    'bagging_fraction': 0.85,\n",
    "    'bagging_freq': 80,\n",
    "    'num_leaves': 110,\n",
    "    'lambda_l2': 86.9,\n",
    "    'n_estimators': 150,\n",
    "    'nthread': 1,\n",
    "}\n",
    "model_lgbm2 = LGBMRegressor(\n",
    "    categorical_feature = data_processor.categorical_col_idx,\n",
    "    **params\n",
    ")"
   ]
  },
  {
   "cell_type": "code",
   "execution_count": 8,
   "metadata": {
    "collapsed": true
   },
   "outputs": [],
   "source": [
    "ens = SuperLearner(folds=5, verbose=1, backend='threading', scorer=mean_absolute_error)"
   ]
  },
  {
   "cell_type": "code",
   "execution_count": 9,
   "metadata": {
    "collapsed": true
   },
   "outputs": [],
   "source": [
    "preprocessing_dict = {\n",
    "    'tree': [data_processor],\n",
    "    'numeric': [data_processor_dummy],\n",
    "}"
   ]
  },
  {
   "cell_type": "code",
   "execution_count": 10,
   "metadata": {
    "collapsed": true
   },
   "outputs": [],
   "source": [
    "estimator_dict = {\n",
    "    'tree': [model_lgbm, model_lgbm2],\n",
    "    'numeric': [ElasticNet(alpha=90, l1_ratio=0.85)],\n",
    "}"
   ]
  },
  {
   "cell_type": "code",
   "execution_count": 11,
   "metadata": {},
   "outputs": [
    {
     "data": {
      "text/plain": [
       "SuperLearner(array_check=2, backend='threading', folds=5,\n",
       "       layers=LayerContainer(backend='threading',\n",
       "        layers=OrderedDict([('layer-1', Layer(cls='stack', cls_kwargs=None, dtype=<type 'numpy.float32'>,\n",
       "   estimators={'tree': [('lgbmregressor-1', LGBMRegressor(bagging_fraction=0.85, bagging_freq=80, boosting_type='gbdt',\n",
       "       categorical_feature=[0, ...bsolute_error at 0x1144dfde8>, verbose=1))]),\n",
       "        n_jobs=-1, raise_on_exception=True, verbose=1),\n",
       "       n_jobs=-1, raise_on_exception=True, random_state=None,\n",
       "       scorer=<function mean_absolute_error at 0x1144dfde8>, shuffle=False,\n",
       "       verbose=1)"
      ]
     },
     "execution_count": 11,
     "metadata": {},
     "output_type": "execute_result"
    }
   ],
   "source": [
    "ens.add(estimators=estimator_dict, preprocessing=preprocessing_dict)"
   ]
  },
  {
   "cell_type": "code",
   "execution_count": 12,
   "metadata": {},
   "outputs": [
    {
     "data": {
      "text/plain": [
       "SuperLearner(array_check=2, backend='threading', folds=5,\n",
       "       layers=LayerContainer(backend='threading',\n",
       "        layers=OrderedDict([('layer-1', Layer(cls='stack', cls_kwargs=None, dtype=<type 'numpy.float32'>,\n",
       "   estimators={'tree': [('lgbmregressor-1', LGBMRegressor(bagging_fraction=0.85, bagging_freq=80, boosting_type='gbdt',\n",
       "       categorical_feature=[0, ...bsolute_error at 0x1144dfde8>, verbose=1))]),\n",
       "        n_jobs=-1, raise_on_exception=True, verbose=1),\n",
       "       n_jobs=-1, raise_on_exception=True, random_state=None,\n",
       "       scorer=<function mean_absolute_error at 0x1144dfde8>, shuffle=False,\n",
       "       verbose=1)"
      ]
     },
     "execution_count": 12,
     "metadata": {},
     "output_type": "execute_result"
    }
   ],
   "source": [
    "ens.add_meta(LinearRegression())"
   ]
  },
  {
   "cell_type": "code",
   "execution_count": 13,
   "metadata": {
    "scrolled": false
   },
   "outputs": [
    {
     "name": "stderr",
     "output_type": "stream",
     "text": [
      "\n",
      "Fitting 2 layers\n",
      "\n",
      "[Parallel(n_jobs=-1)]: Done  10 out of  12 | elapsed:    1.1s remaining:    0.2s\n",
      "[Parallel(n_jobs=-1)]: Done  12 out of  12 | elapsed:    1.2s finished\n",
      "[Parallel(n_jobs=-1)]: Done  18 out of  18 | elapsed:   24.9s finished\n",
      "[Parallel(n_jobs=-1)]: Done   1 out of   1 | elapsed:    0.0s finished\n",
      "[Parallel(n_jobs=-1)]: Done   1 out of   1 | elapsed:    0.1s finished\n",
      "Fit complete | 00:00:29\n",
      "\n"
     ]
    },
    {
     "data": {
      "text/plain": [
       "SuperLearner(array_check=2, backend='threading', folds=5,\n",
       "       layers=LayerContainer(backend='threading',\n",
       "        layers=OrderedDict([('layer-1', Layer(cls='stack', cls_kwargs=None, dtype=<type 'numpy.float32'>,\n",
       "   estimators={'tree': [('lgbmregressor-1', LGBMRegressor(bagging_fraction=0.85, bagging_freq=80, boosting_type='gbdt',\n",
       "       categorical_feature=[0, ...bsolute_error at 0x1144dfde8>, verbose=1))]),\n",
       "        n_jobs=-1, raise_on_exception=True, verbose=1),\n",
       "       n_jobs=-1, raise_on_exception=True, random_state=None,\n",
       "       scorer=<function mean_absolute_error at 0x1144dfde8>, shuffle=False,\n",
       "       verbose=1)"
      ]
     },
     "execution_count": 13,
     "metadata": {},
     "output_type": "execute_result"
    }
   ],
   "source": [
    "ens.fit(X_all, y_all)"
   ]
  },
  {
   "cell_type": "code",
   "execution_count": 14,
   "metadata": {},
   "outputs": [
    {
     "data": {
      "text/plain": [
       "{'score_mean': {('layer-1', 'numeric__elasticnet'): 0.068513830709068357,\n",
       "  ('layer-1', 'tree__lgbmregressor-1'): 0.06732823645801192,\n",
       "  ('layer-1', 'tree__lgbmregressor-2'): 0.06746545092378331},\n",
       " 'score_std': {('layer-1', 'numeric__elasticnet'): 0.0030373080071470198,\n",
       "  ('layer-1', 'tree__lgbmregressor-1'): 0.0030450210540279368,\n",
       "  ('layer-1', 'tree__lgbmregressor-2'): 0.0030242851282584388}}"
      ]
     },
     "execution_count": 14,
     "metadata": {},
     "output_type": "execute_result"
    }
   ],
   "source": [
    "ens.scores_"
   ]
  },
  {
   "cell_type": "code",
   "execution_count": 15,
   "metadata": {},
   "outputs": [
    {
     "name": "stderr",
     "output_type": "stream",
     "text": [
      "\n",
      "Predicting with 2 layers\n",
      "\n",
      "[Parallel(n_jobs=-1)]: Done   3 out of   3 | elapsed:    1.3s finished\n",
      "[Parallel(n_jobs=-1)]: Done   1 out of   1 | elapsed:    0.0s finished\n",
      "Prediction complete | 00:00:01\n",
      "\n"
     ]
    }
   ],
   "source": [
    "y_pred = ens.predict(X_all)"
   ]
  },
  {
   "cell_type": "code",
   "execution_count": 16,
   "metadata": {},
   "outputs": [
    {
     "data": {
      "text/plain": [
       "array([-0.15906987, -0.15872392, -0.15803486, ...,  0.22715664,\n",
       "        0.22804198,  0.23159331], dtype=float32)"
      ]
     },
     "execution_count": 16,
     "metadata": {},
     "output_type": "execute_result"
    }
   ],
   "source": [
    "np.unique(y_pred)"
   ]
  },
  {
   "cell_type": "code",
   "execution_count": 17,
   "metadata": {},
   "outputs": [
    {
     "data": {
      "text/plain": [
       "0.064952949150373432"
      ]
     },
     "execution_count": 17,
     "metadata": {},
     "output_type": "execute_result"
    }
   ],
   "source": [
    "mean_absolute_error(y_all, y_pred)"
   ]
  },
  {
   "cell_type": "code",
   "execution_count": 43,
   "metadata": {},
   "outputs": [
    {
     "data": {
      "text/plain": [
       "LGBMRegressor(bagging_fraction=0.85, bagging_freq=80, boosting_type='gbdt',\n",
       "       categorical_feature=[0, 1, 2, 3, 4, 5, 6, 7, 8, 9, 10, 11, 12, 13, 14, 15, 16, 17, 18, 19, 20],\n",
       "       colsample_bytree=1, feature_fraction=0.94, lambda_l2=86.9,\n",
       "       learning_rate=0.0116, max_bin=80, max_depth=-1,\n",
       "       min_child_samples=10, min_child_weight=5, min_split_gain=0,\n",
       "       n_estimators=300, nthread=1, num_leaves=110,\n",
       "       objective='regression_l1', reg_alpha=0, reg_lambda=0, seed=0,\n",
       "       silent=True, subsample=1, subsample_for_bin=50000, subsample_freq=1)"
      ]
     },
     "execution_count": 43,
     "metadata": {},
     "output_type": "execute_result"
    }
   ],
   "source": [
    "model_lgbm.fit(X_all, y_all)"
   ]
  },
  {
   "cell_type": "code",
   "execution_count": 44,
   "metadata": {
    "collapsed": true
   },
   "outputs": [],
   "source": [
    "y_pred = model_lgbm.predict(X_all)"
   ]
  },
  {
   "cell_type": "code",
   "execution_count": 45,
   "metadata": {},
   "outputs": [
    {
     "data": {
      "text/plain": [
       "0.065426202462288391"
      ]
     },
     "execution_count": 45,
     "metadata": {},
     "output_type": "execute_result"
    }
   ],
   "source": [
    "mean_absolute_error(y_all, y_pred)"
   ]
  },
  {
   "cell_type": "code",
   "execution_count": null,
   "metadata": {
    "collapsed": true
   },
   "outputs": [],
   "source": []
  }
 ],
 "metadata": {
  "kernelspec": {
   "display_name": "Python 2",
   "language": "python",
   "name": "python2"
  },
  "language_info": {
   "codemirror_mode": {
    "name": "ipython",
    "version": 2
   },
   "file_extension": ".py",
   "mimetype": "text/x-python",
   "name": "python",
   "nbconvert_exporter": "python",
   "pygments_lexer": "ipython2",
   "version": "2.7.13"
  }
 },
 "nbformat": 4,
 "nbformat_minor": 2
}
