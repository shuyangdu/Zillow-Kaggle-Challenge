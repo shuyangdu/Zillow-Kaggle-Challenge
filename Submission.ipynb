{
 "cells": [
  {
   "cell_type": "code",
   "execution_count": 2,
   "metadata": {
    "collapsed": true
   },
   "outputs": [],
   "source": [
    "import pandas as pd\n",
    "import numpy as np\n",
    "from matplotlib import pyplot as plt\n",
    "import seaborn as sns\n",
    "from data_process.column_schema import (PROPERTIES_RENAME_DICT, TRANSACTION_RENAME_DICT, \n",
    "                                        NUMERICAL_COLS, CATEGORICAL_COLS)\n",
    "from data_process.data_process_pipeline import DataProcessPipeline\n",
    "from lightgbm import LGBMRegressor\n",
    "from models.tree_models.lgbm import LGBM\n",
    "from sklearn.metrics import mean_absolute_error\n",
    "%load_ext autoreload\n",
    "%autoreload 2\n",
    "%matplotlib inline\n",
    "%config InlineBackend.figure_format = 'retina'"
   ]
  },
  {
   "cell_type": "markdown",
   "metadata": {},
   "source": [
    "# Load data"
   ]
  },
  {
   "cell_type": "code",
   "execution_count": 3,
   "metadata": {
    "collapsed": true
   },
   "outputs": [],
   "source": [
    "df_all = pd.read_csv('/Users/shuyangdu/Desktop/ZillowChallenge/data/df_merged.csv')"
   ]
  },
  {
   "cell_type": "code",
   "execution_count": 4,
   "metadata": {},
   "outputs": [
    {
     "name": "stderr",
     "output_type": "stream",
     "text": [
      "/Users/shuyangdu/anaconda/envs/py27/lib/python2.7/site-packages/IPython/core/interactiveshell.py:2717: DtypeWarning: Columns (22,32,34,49,55) have mixed types. Specify dtype option on import or set low_memory=False.\n",
      "  interactivity=interactivity, compiler=compiler, result=result)\n"
     ]
    }
   ],
   "source": [
    "df_properties = pd.read_csv('/Users/shuyangdu/Desktop/ZillowChallenge/data/properties_2016.csv')"
   ]
  },
  {
   "cell_type": "code",
   "execution_count": 5,
   "metadata": {
    "collapsed": true
   },
   "outputs": [],
   "source": [
    "# add fake y for data processing\n",
    "df_properties['logerror'] = 0"
   ]
  },
  {
   "cell_type": "code",
   "execution_count": 6,
   "metadata": {
    "collapsed": true
   },
   "outputs": [],
   "source": [
    "df_submission = pd.read_csv('/Users/shuyangdu/Desktop/ZillowChallenge/data/sample_submission.csv')"
   ]
  },
  {
   "cell_type": "code",
   "execution_count": 7,
   "metadata": {},
   "outputs": [
    {
     "data": {
      "text/plain": [
       "(2985217, 7)"
      ]
     },
     "execution_count": 7,
     "metadata": {},
     "output_type": "execute_result"
    }
   ],
   "source": [
    "df_submission.shape"
   ]
  },
  {
   "cell_type": "markdown",
   "metadata": {},
   "source": [
    "# Process training data"
   ]
  },
  {
   "cell_type": "code",
   "execution_count": 8,
   "metadata": {
    "collapsed": true
   },
   "outputs": [],
   "source": [
    "data_pipeline = DataProcessPipeline(encode_mode='label')"
   ]
  },
  {
   "cell_type": "code",
   "execution_count": 9,
   "metadata": {
    "collapsed": true
   },
   "outputs": [],
   "source": [
    "df_train = data_pipeline.pre_process(df_all)"
   ]
  },
  {
   "cell_type": "code",
   "execution_count": 10,
   "metadata": {
    "collapsed": true
   },
   "outputs": [],
   "source": [
    "df_train = data_pipeline.post_process(df_train, is_train=True)"
   ]
  },
  {
   "cell_type": "code",
   "execution_count": 11,
   "metadata": {
    "collapsed": true
   },
   "outputs": [],
   "source": [
    "X_train = df_train[data_pipeline.final_feature_cols].values\n",
    "y_train = df_train[data_pipeline.label_col].values"
   ]
  },
  {
   "cell_type": "markdown",
   "metadata": {},
   "source": [
    "# Train model"
   ]
  },
  {
   "cell_type": "markdown",
   "metadata": {},
   "source": [
    "## Light GBM"
   ]
  },
  {
   "cell_type": "code",
   "execution_count": 1,
   "metadata": {
    "collapsed": true
   },
   "outputs": [],
   "source": [
    "params = {\n",
    "    'max_bin': 80,\n",
    "    'learning_rate': 0.0116,\n",
    "    'boosting_type': 'gbdt',\n",
    "    'objective': 'regression_l1',\n",
    "    'feature_fraction': 0.94,\n",
    "    'bagging_fraction': 0.85,\n",
    "    'bagging_freq': 80,\n",
    "    'num_leaves': 110,\n",
    "    'lambda_l2': 86.9,\n",
    "    'n_estimators': 450,\n",
    "}"
   ]
  },
  {
   "cell_type": "code",
   "execution_count": 12,
   "metadata": {
    "collapsed": true
   },
   "outputs": [],
   "source": [
    "model = LGBM(\n",
    "    feature_name=data_pipeline.final_feature_cols,\n",
    "    categorical_feature=data_pipeline.categorical_cols,\n",
    "    **params\n",
    ")"
   ]
  },
  {
   "cell_type": "code",
   "execution_count": 13,
   "metadata": {},
   "outputs": [],
   "source": [
    "model.fit(X_train, y_train)"
   ]
  },
  {
   "cell_type": "markdown",
   "metadata": {},
   "source": [
    "# Make prediction"
   ]
  },
  {
   "cell_type": "code",
   "execution_count": 14,
   "metadata": {
    "collapsed": true
   },
   "outputs": [],
   "source": [
    "# rename df_properties\n",
    "df_properties.rename(columns=data_pipeline.properties_rename_dict, inplace=True)"
   ]
  },
  {
   "cell_type": "code",
   "execution_count": 22,
   "metadata": {},
   "outputs": [
    {
     "name": "stdout",
     "output_type": "stream",
     "text": [
      "Predict for 201610\n",
      "Start processing data...\n",
      "Line up predictions\n",
      "201610 finished\n",
      "Predict for 201611\n",
      "Start processing data...\n",
      "Line up predictions\n",
      "201611 finished\n",
      "Predict for 201612\n",
      "Start processing data...\n",
      "Line up predictions\n",
      "201612 finished\n",
      "Predict for 201710\n",
      "Start processing data...\n",
      "Line up predictions\n",
      "201710 finished\n",
      "Predict for 201711\n",
      "Start processing data...\n",
      "Line up predictions\n",
      "201711 finished\n",
      "Predict for 201712\n",
      "Start processing data...\n",
      "Line up predictions\n",
      "201712 finished\n"
     ]
    }
   ],
   "source": [
    "# only make prediction for 201610, 201611, 201612 since only month matters\n",
    "for col in df_submission.columns[1:4]:\n",
    "    print 'Predict for {}'.format(col)\n",
    "    # add feature transaction_month based on prediction date\n",
    "    df_pred = df_properties.copy()\n",
    "    df_pred['transaction_month'] = col[-2:]\n",
    "    \n",
    "    print 'Start pre-processing...'\n",
    "    # process data\n",
    "    df_pred = data_pipeline.pre_process(df_pred)\n",
    "    print 'Pre-processing finished, start post-processing...'\n",
    "    df_pred = data_pipeline.post_process(df_pred, is_train=False)\n",
    "    \n",
    "    X_pred = df_pred[data_pipeline.final_feature_cols].values\n",
    "    y_pred = model.predict(X_pred)\n",
    "    \n",
    "    print 'Line up predictions'\n",
    "    # line up predictions\n",
    "    y_pred = pd.DataFrame(y_pred, index=df_properties['id_parcel'], columns=['pred'])\n",
    "    df_merge = pd.merge(df_submission, y_pred, how='left', left_on='ParcelId', right_index=True)\n",
    "    \n",
    "    df_submission.loc[:, col] = df_merge['pred']\n",
    "    print '{} finished'.format(col)"
   ]
  },
  {
   "cell_type": "code",
   "execution_count": 41,
   "metadata": {
    "collapsed": true
   },
   "outputs": [],
   "source": [
    "# copy 201610, 201611 and 201612 to 2017\n",
    "for i in range(4, df_submission.shape[1]):\n",
    "    df_submission.iloc[:, i] = df_submission.iloc[:, i-3]"
   ]
  },
  {
   "cell_type": "code",
   "execution_count": null,
   "metadata": {},
   "outputs": [],
   "source": []
  },
  {
   "cell_type": "markdown",
   "metadata": {},
   "source": [
    "# Create submission file"
   ]
  },
  {
   "cell_type": "code",
   "execution_count": 23,
   "metadata": {
    "collapsed": true
   },
   "outputs": [],
   "source": [
    "df_submission.to_csv('/Users/shuyangdu/Desktop/ZillowChallenge/submission/lightgbm_20170806.csv', index=False)"
   ]
  },
  {
   "cell_type": "code",
   "execution_count": 25,
   "metadata": {},
   "outputs": [
    {
     "data": {
      "text/html": [
       "<div>\n",
       "<style>\n",
       "    .dataframe thead tr:only-child th {\n",
       "        text-align: right;\n",
       "    }\n",
       "\n",
       "    .dataframe thead th {\n",
       "        text-align: left;\n",
       "    }\n",
       "\n",
       "    .dataframe tbody tr th {\n",
       "        vertical-align: top;\n",
       "    }\n",
       "</style>\n",
       "<table border=\"1\" class=\"dataframe\">\n",
       "  <thead>\n",
       "    <tr style=\"text-align: right;\">\n",
       "      <th></th>\n",
       "      <th>ParcelId</th>\n",
       "      <th>201610</th>\n",
       "      <th>201611</th>\n",
       "      <th>201612</th>\n",
       "      <th>201710</th>\n",
       "      <th>201711</th>\n",
       "      <th>201712</th>\n",
       "    </tr>\n",
       "  </thead>\n",
       "  <tbody>\n",
       "    <tr>\n",
       "      <th>0</th>\n",
       "      <td>10754147</td>\n",
       "      <td>0.011453</td>\n",
       "      <td>0.014164</td>\n",
       "      <td>0.016392</td>\n",
       "      <td>0.011453</td>\n",
       "      <td>0.014164</td>\n",
       "      <td>0.016392</td>\n",
       "    </tr>\n",
       "    <tr>\n",
       "      <th>1</th>\n",
       "      <td>10759547</td>\n",
       "      <td>0.017489</td>\n",
       "      <td>0.014622</td>\n",
       "      <td>0.015951</td>\n",
       "      <td>0.017489</td>\n",
       "      <td>0.014622</td>\n",
       "      <td>0.015951</td>\n",
       "    </tr>\n",
       "    <tr>\n",
       "      <th>2</th>\n",
       "      <td>10843547</td>\n",
       "      <td>0.063491</td>\n",
       "      <td>0.059360</td>\n",
       "      <td>0.057898</td>\n",
       "      <td>0.063491</td>\n",
       "      <td>0.059360</td>\n",
       "      <td>0.057898</td>\n",
       "    </tr>\n",
       "    <tr>\n",
       "      <th>3</th>\n",
       "      <td>10859147</td>\n",
       "      <td>0.037147</td>\n",
       "      <td>0.027718</td>\n",
       "      <td>0.028046</td>\n",
       "      <td>0.037147</td>\n",
       "      <td>0.027718</td>\n",
       "      <td>0.028046</td>\n",
       "    </tr>\n",
       "    <tr>\n",
       "      <th>4</th>\n",
       "      <td>10879947</td>\n",
       "      <td>0.064347</td>\n",
       "      <td>0.060387</td>\n",
       "      <td>0.062283</td>\n",
       "      <td>0.064347</td>\n",
       "      <td>0.060387</td>\n",
       "      <td>0.062283</td>\n",
       "    </tr>\n",
       "  </tbody>\n",
       "</table>\n",
       "</div>"
      ],
      "text/plain": [
       "   ParcelId    201610    201611    201612    201710    201711    201712\n",
       "0  10754147  0.011453  0.014164  0.016392  0.011453  0.014164  0.016392\n",
       "1  10759547  0.017489  0.014622  0.015951  0.017489  0.014622  0.015951\n",
       "2  10843547  0.063491  0.059360  0.057898  0.063491  0.059360  0.057898\n",
       "3  10859147  0.037147  0.027718  0.028046  0.037147  0.027718  0.028046\n",
       "4  10879947  0.064347  0.060387  0.062283  0.064347  0.060387  0.062283"
      ]
     },
     "execution_count": 25,
     "metadata": {},
     "output_type": "execute_result"
    }
   ],
   "source": [
    "df_submission.head()"
   ]
  },
  {
   "cell_type": "code",
   "execution_count": 29,
   "metadata": {},
   "outputs": [],
   "source": [
    "pd.DataFrame(params, index=[0]).to_csv('/Users/shuyangdu/Desktop/ZillowChallenge/submission/params_20170806.csv', index=False)"
   ]
  },
  {
   "cell_type": "code",
   "execution_count": null,
   "metadata": {
    "collapsed": true
   },
   "outputs": [],
   "source": []
  }
 ],
 "metadata": {
  "kernelspec": {
   "display_name": "Python 2",
   "language": "python",
   "name": "python2"
  },
  "language_info": {
   "codemirror_mode": {
    "name": "ipython",
    "version": 2
   },
   "file_extension": ".py",
   "mimetype": "text/x-python",
   "name": "python",
   "nbconvert_exporter": "python",
   "pygments_lexer": "ipython2",
   "version": "2.7.13"
  }
 },
 "nbformat": 4,
 "nbformat_minor": 2
}
