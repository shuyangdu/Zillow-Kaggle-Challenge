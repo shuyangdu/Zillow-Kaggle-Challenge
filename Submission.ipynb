{
 "cells": [
  {
   "cell_type": "markdown",
   "metadata": {},
   "source": [
    "# Submission\n",
    "Make final predictions for submission using the best model."
   ]
  },
  {
   "cell_type": "code",
   "execution_count": 1,
   "metadata": {},
   "outputs": [
    {
     "name": "stderr",
     "output_type": "stream",
     "text": [
      "Using TensorFlow backend.\n"
     ]
    }
   ],
   "source": [
    "import pandas as pd\n",
    "import numpy as np\n",
    "from matplotlib import pyplot as plt\n",
    "import seaborn as sns\n",
    "from data_process.data_transform_processor import DataTransformProcessor\n",
    "from data_process.feature_engineer import FeatureEngineer\n",
    "from models.nn_models.dnn import DNN\n",
    "from lightgbm import LGBMRegressor\n",
    "from sklearn.linear_model import ElasticNet, LinearRegression, Ridge\n",
    "from models.tree_models.lgbm import LGBM\n",
    "from mlens.ensemble import SuperLearner\n",
    "from models.model_flow import ModelFlow\n",
    "# from schema.columns_added_filled import LABEL_COL, NUMERICAL_COLS, CATEGORICAL_COLS, LOG_COLS\n",
    "from schema.columns_added import LABEL_COL, NUMERICAL_COLS, CATEGORICAL_COLS, LOG_COLS\n",
    "# from schema.columns_original import LABEL_COL, NUMERICAL_COLS, CATEGORICAL_COLS, LOG_COLS\n",
    "from sklearn.metrics import mean_absolute_error\n",
    "%load_ext autoreload\n",
    "%autoreload 2\n",
    "%matplotlib inline\n",
    "%config InlineBackend.figure_format = 'retina'"
   ]
  },
  {
   "cell_type": "markdown",
   "metadata": {},
   "source": [
    "# Load data"
   ]
  },
  {
   "cell_type": "code",
   "execution_count": 2,
   "metadata": {},
   "outputs": [
    {
     "name": "stderr",
     "output_type": "stream",
     "text": [
      "/Users/shuyangdu/anaconda/envs/py27/lib/python2.7/site-packages/IPython/core/interactiveshell.py:2717: DtypeWarning: Columns (51) have mixed types. Specify dtype option on import or set low_memory=False.\n",
      "  interactivity=interactivity, compiler=compiler, result=result)\n"
     ]
    }
   ],
   "source": [
    "df_all = pd.read_csv('/Users/shuyangdu/Desktop/ZillowChallenge/data/df_merged_20170923.csv')"
   ]
  },
  {
   "cell_type": "code",
   "execution_count": 3,
   "metadata": {},
   "outputs": [
    {
     "name": "stderr",
     "output_type": "stream",
     "text": [
      "/Users/shuyangdu/anaconda/envs/py27/lib/python2.7/site-packages/IPython/core/interactiveshell.py:2717: DtypeWarning: Columns (22,32,34,49,55) have mixed types. Specify dtype option on import or set low_memory=False.\n",
      "  interactivity=interactivity, compiler=compiler, result=result)\n"
     ]
    }
   ],
   "source": [
    "df_properties = pd.read_csv('/Users/shuyangdu/Desktop/ZillowChallenge/data/properties_2016_engineered_20170923.csv')"
   ]
  },
  {
   "cell_type": "code",
   "execution_count": 4,
   "metadata": {
    "collapsed": true
   },
   "outputs": [],
   "source": [
    "# add fake y for data processing\n",
    "df_properties['logerror'] = 0"
   ]
  },
  {
   "cell_type": "code",
   "execution_count": 5,
   "metadata": {
    "collapsed": true
   },
   "outputs": [],
   "source": [
    "df_submission = pd.read_csv('/Users/shuyangdu/Desktop/ZillowChallenge/data/raw_data/sample_submission.csv')"
   ]
  },
  {
   "cell_type": "code",
   "execution_count": 6,
   "metadata": {},
   "outputs": [
    {
     "data": {
      "text/plain": [
       "(2985217, 7)"
      ]
     },
     "execution_count": 6,
     "metadata": {},
     "output_type": "execute_result"
    }
   ],
   "source": [
    "df_submission.shape"
   ]
  },
  {
   "cell_type": "markdown",
   "metadata": {},
   "source": [
    "# Pre-process training data"
   ]
  },
  {
   "cell_type": "markdown",
   "metadata": {},
   "source": [
    "## Candidate Data Processors"
   ]
  },
  {
   "cell_type": "code",
   "execution_count": 7,
   "metadata": {
    "collapsed": true
   },
   "outputs": [],
   "source": [
    "data_processor_dummy = DataTransformProcessor(\n",
    "    use_dummy=True, use_scale=True,\n",
    "    numerical_cols=NUMERICAL_COLS, \n",
    "    categorical_cols=CATEGORICAL_COLS,\n",
    "    log_cols=LOG_COLS, \n",
    "    label_col=LABEL_COL,\n",
    ")\n",
    "data_processor = DataTransformProcessor(\n",
    "    numerical_cols=NUMERICAL_COLS, \n",
    "    categorical_cols=CATEGORICAL_COLS,\n",
    "    log_cols=LOG_COLS, \n",
    "    label_col=LABEL_COL,\n",
    ")"
   ]
  },
  {
   "cell_type": "code",
   "execution_count": 8,
   "metadata": {
    "collapsed": true
   },
   "outputs": [],
   "source": [
    "X_all = data_processor.pre_process(df_all)\n",
    "y_all = df_all[LABEL_COL].values"
   ]
  },
  {
   "cell_type": "markdown",
   "metadata": {},
   "source": [
    "# Train model"
   ]
  },
  {
   "cell_type": "markdown",
   "metadata": {},
   "source": [
    "## Candidate Models"
   ]
  },
  {
   "cell_type": "code",
   "execution_count": 9,
   "metadata": {
    "collapsed": true
   },
   "outputs": [],
   "source": [
    "# params = {\n",
    "#     'max_bin': 80,\n",
    "#     'learning_rate': 0.0116,\n",
    "#     'boosting_type': 'gbdt',\n",
    "#     'objective': 'regression_l1',\n",
    "#     'feature_fraction': 0.94,\n",
    "#     'bagging_fraction': 0.85,\n",
    "#     'bagging_freq': 80,\n",
    "#     'num_leaves': 110,\n",
    "#     'lambda_l2': 86.9,\n",
    "#     'n_estimators': 450,\n",
    "# }\n",
    "params = {\n",
    "    'max_bin': 160,\n",
    "    'learning_rate': 0.015197,\n",
    "    'boosting_type': 'gbdt',\n",
    "    'objective': 'regression_l1',\n",
    "    'feature_fraction': 0.865260,\n",
    "    'bagging_fraction': 0.932207,\n",
    "    'bagging_freq': 70,\n",
    "    'num_leaves': 170,\n",
    "    'lambda_l2': 78.124466,\n",
    "    'n_estimators': 400,\n",
    "}\n",
    "model_lgbm = LGBMRegressor(\n",
    "    categorical_feature = data_processor.categorical_col_idx,\n",
    "    **params\n",
    ")"
   ]
  },
  {
   "cell_type": "code",
   "execution_count": 11,
   "metadata": {
    "collapsed": true
   },
   "outputs": [],
   "source": [
    "params = {\n",
    "    'max_bin': 80,\n",
    "    'learning_rate': 0.0116,\n",
    "    'boosting_type': 'gbdt',\n",
    "    'objective': 'regression_l1',\n",
    "    'feature_fraction': 0.94,\n",
    "    'bagging_fraction': 0.85,\n",
    "    'bagging_freq': 80,\n",
    "    'num_leaves': 110,\n",
    "    'lambda_l2': 86.9,\n",
    "    'n_estimators': 150,\n",
    "    'nthread': 1,\n",
    "}\n",
    "model_lgbm2 = LGBMRegressor(\n",
    "    categorical_feature = data_processor.categorical_col_idx,\n",
    "    **params\n",
    ")"
   ]
  },
  {
   "cell_type": "markdown",
   "metadata": {},
   "source": [
    "## Stacking (Super Learner)"
   ]
  },
  {
   "cell_type": "code",
   "execution_count": 12,
   "metadata": {
    "collapsed": true
   },
   "outputs": [],
   "source": [
    "ens = SuperLearner(folds=5, verbose=1, backend='threading', scorer=mean_absolute_error)"
   ]
  },
  {
   "cell_type": "code",
   "execution_count": 13,
   "metadata": {
    "collapsed": true
   },
   "outputs": [],
   "source": [
    "preprocessing_dict = {\n",
    "    'tree': [data_processor],\n",
    "    'numeric': [data_processor_dummy],\n",
    "}"
   ]
  },
  {
   "cell_type": "code",
   "execution_count": 14,
   "metadata": {
    "collapsed": true
   },
   "outputs": [],
   "source": [
    "estimator_dict = {\n",
    "    'tree': [model_lgbm, model_lgbm2],\n",
    "    'numeric': [ElasticNet(alpha=90, l1_ratio=0.85)],\n",
    "}"
   ]
  },
  {
   "cell_type": "code",
   "execution_count": 15,
   "metadata": {},
   "outputs": [
    {
     "data": {
      "text/plain": [
       "SuperLearner(array_check=2, backend='threading', folds=5,\n",
       "       layers=LayerContainer(backend='threading',\n",
       "        layers=OrderedDict([('layer-1', Layer(cls='stack', cls_kwargs=None, dtype=<type 'numpy.float32'>,\n",
       "   estimators={'tree': [('lgbmregressor-1', LGBMRegressor(bagging_fraction=0.85, bagging_freq=80, boosting_type='gbdt',\n",
       "       categorical_feature=[0, ...bsolute_error at 0x11917d2a8>, verbose=1))]),\n",
       "        n_jobs=-1, raise_on_exception=True, verbose=1),\n",
       "       n_jobs=-1, raise_on_exception=True, random_state=None,\n",
       "       scorer=<function mean_absolute_error at 0x11917d2a8>, shuffle=False,\n",
       "       verbose=1)"
      ]
     },
     "execution_count": 15,
     "metadata": {},
     "output_type": "execute_result"
    }
   ],
   "source": [
    "ens.add(estimators=estimator_dict, preprocessing=preprocessing_dict)"
   ]
  },
  {
   "cell_type": "code",
   "execution_count": 16,
   "metadata": {},
   "outputs": [
    {
     "data": {
      "text/plain": [
       "SuperLearner(array_check=2, backend='threading', folds=5,\n",
       "       layers=LayerContainer(backend='threading',\n",
       "        layers=OrderedDict([('layer-1', Layer(cls='stack', cls_kwargs=None, dtype=<type 'numpy.float32'>,\n",
       "   estimators={'tree': [('lgbmregressor-1', LGBMRegressor(bagging_fraction=0.85, bagging_freq=80, boosting_type='gbdt',\n",
       "       categorical_feature=[0, ...bsolute_error at 0x11917d2a8>, verbose=1))]),\n",
       "        n_jobs=-1, raise_on_exception=True, verbose=1),\n",
       "       n_jobs=-1, raise_on_exception=True, random_state=None,\n",
       "       scorer=<function mean_absolute_error at 0x11917d2a8>, shuffle=False,\n",
       "       verbose=1)"
      ]
     },
     "execution_count": 16,
     "metadata": {},
     "output_type": "execute_result"
    }
   ],
   "source": [
    "ens.add_meta(LinearRegression())"
   ]
  },
  {
   "cell_type": "code",
   "execution_count": 17,
   "metadata": {},
   "outputs": [
    {
     "name": "stderr",
     "output_type": "stream",
     "text": [
      "\n",
      "Fitting 2 layers\n",
      "\n",
      "[Parallel(n_jobs=-1)]: Done  10 out of  12 | elapsed:    1.3s remaining:    0.3s\n",
      "[Parallel(n_jobs=-1)]: Done  12 out of  12 | elapsed:    1.3s finished\n",
      "[Parallel(n_jobs=-1)]: Done  18 out of  18 | elapsed:   25.7s finished\n",
      "[Parallel(n_jobs=-1)]: Done   1 out of   1 | elapsed:    0.0s finished\n",
      "[Parallel(n_jobs=-1)]: Done   1 out of   1 | elapsed:    0.1s finished\n",
      "Fit complete | 00:00:30\n",
      "\n"
     ]
    },
    {
     "data": {
      "text/plain": [
       "SuperLearner(array_check=2, backend='threading', folds=5,\n",
       "       layers=LayerContainer(backend='threading',\n",
       "        layers=OrderedDict([('layer-1', Layer(cls='stack', cls_kwargs=None, dtype=<type 'numpy.float32'>,\n",
       "   estimators={'tree': [('lgbmregressor-1', LGBMRegressor(bagging_fraction=0.85, bagging_freq=80, boosting_type='gbdt',\n",
       "       categorical_feature=[0, ...bsolute_error at 0x11917d2a8>, verbose=1))]),\n",
       "        n_jobs=-1, raise_on_exception=True, verbose=1),\n",
       "       n_jobs=-1, raise_on_exception=True, random_state=None,\n",
       "       scorer=<function mean_absolute_error at 0x11917d2a8>, shuffle=False,\n",
       "       verbose=1)"
      ]
     },
     "execution_count": 17,
     "metadata": {},
     "output_type": "execute_result"
    }
   ],
   "source": [
    "ens.fit(X_all, y_all)"
   ]
  },
  {
   "cell_type": "code",
   "execution_count": 20,
   "metadata": {
    "collapsed": true
   },
   "outputs": [],
   "source": [
    "model_flow = ens"
   ]
  },
  {
   "cell_type": "markdown",
   "metadata": {},
   "source": [
    "## Single Model (Model Flow)"
   ]
  },
  {
   "cell_type": "code",
   "execution_count": 10,
   "metadata": {
    "collapsed": true
   },
   "outputs": [],
   "source": [
    "model_flow = ModelFlow(model=model_lgbm, data_processor=data_processor)"
   ]
  },
  {
   "cell_type": "code",
   "execution_count": 11,
   "metadata": {
    "collapsed": true
   },
   "outputs": [],
   "source": [
    "model_flow.fit(X_all, y_all)"
   ]
  },
  {
   "cell_type": "markdown",
   "metadata": {},
   "source": [
    "# Make prediction"
   ]
  },
  {
   "cell_type": "code",
   "execution_count": 12,
   "metadata": {},
   "outputs": [
    {
     "data": {
      "text/html": [
       "<div>\n",
       "<style>\n",
       "    .dataframe thead tr:only-child th {\n",
       "        text-align: right;\n",
       "    }\n",
       "\n",
       "    .dataframe thead th {\n",
       "        text-align: left;\n",
       "    }\n",
       "\n",
       "    .dataframe tbody tr th {\n",
       "        vertical-align: top;\n",
       "    }\n",
       "</style>\n",
       "<table border=\"1\" class=\"dataframe\">\n",
       "  <thead>\n",
       "    <tr style=\"text-align: right;\">\n",
       "      <th></th>\n",
       "      <th>ParcelId</th>\n",
       "      <th>201610</th>\n",
       "      <th>201611</th>\n",
       "      <th>201612</th>\n",
       "      <th>201710</th>\n",
       "      <th>201711</th>\n",
       "      <th>201712</th>\n",
       "    </tr>\n",
       "  </thead>\n",
       "  <tbody>\n",
       "    <tr>\n",
       "      <th>0</th>\n",
       "      <td>10754147</td>\n",
       "      <td>0</td>\n",
       "      <td>0</td>\n",
       "      <td>0</td>\n",
       "      <td>0</td>\n",
       "      <td>0</td>\n",
       "      <td>0</td>\n",
       "    </tr>\n",
       "    <tr>\n",
       "      <th>1</th>\n",
       "      <td>10759547</td>\n",
       "      <td>0</td>\n",
       "      <td>0</td>\n",
       "      <td>0</td>\n",
       "      <td>0</td>\n",
       "      <td>0</td>\n",
       "      <td>0</td>\n",
       "    </tr>\n",
       "    <tr>\n",
       "      <th>2</th>\n",
       "      <td>10843547</td>\n",
       "      <td>0</td>\n",
       "      <td>0</td>\n",
       "      <td>0</td>\n",
       "      <td>0</td>\n",
       "      <td>0</td>\n",
       "      <td>0</td>\n",
       "    </tr>\n",
       "    <tr>\n",
       "      <th>3</th>\n",
       "      <td>10859147</td>\n",
       "      <td>0</td>\n",
       "      <td>0</td>\n",
       "      <td>0</td>\n",
       "      <td>0</td>\n",
       "      <td>0</td>\n",
       "      <td>0</td>\n",
       "    </tr>\n",
       "    <tr>\n",
       "      <th>4</th>\n",
       "      <td>10879947</td>\n",
       "      <td>0</td>\n",
       "      <td>0</td>\n",
       "      <td>0</td>\n",
       "      <td>0</td>\n",
       "      <td>0</td>\n",
       "      <td>0</td>\n",
       "    </tr>\n",
       "  </tbody>\n",
       "</table>\n",
       "</div>"
      ],
      "text/plain": [
       "   ParcelId  201610  201611  201612  201710  201711  201712\n",
       "0  10754147       0       0       0       0       0       0\n",
       "1  10759547       0       0       0       0       0       0\n",
       "2  10843547       0       0       0       0       0       0\n",
       "3  10859147       0       0       0       0       0       0\n",
       "4  10879947       0       0       0       0       0       0"
      ]
     },
     "execution_count": 12,
     "metadata": {},
     "output_type": "execute_result"
    }
   ],
   "source": [
    "df_submission.head()"
   ]
  },
  {
   "cell_type": "code",
   "execution_count": null,
   "metadata": {
    "scrolled": false
   },
   "outputs": [
    {
     "name": "stdout",
     "output_type": "stream",
     "text": [
      "Predict for 201610\n",
      "Start pre-processing...\n",
      "Pre-processing finished, start predicting...\n"
     ]
    }
   ],
   "source": [
    "# only make prediction for 201610, 201611, 201612 since only month matters\n",
    "for col in df_submission.columns[1:4]:\n",
    "    print 'Predict for {}'.format(col)\n",
    "    # add feature transaction_month based on prediction date\n",
    "    df_pred = df_properties.copy()\n",
    "    df_pred['transaction_month'] = col[-2:]\n",
    "    \n",
    "    print 'Start pre-processing...'\n",
    "    # process data\n",
    "    X_pred = data_processor.pre_process(df_pred)\n",
    "    print 'Pre-processing finished, start predicting...'\n",
    "    y_pred = model_flow.predict(X_pred)\n",
    "    \n",
    "    print 'Line up predictions'\n",
    "    # line up predictions\n",
    "    y_pred = pd.DataFrame(y_pred, index=df_properties['id_parcel'], columns=['pred'])\n",
    "    df_merge = pd.merge(df_submission, y_pred, how='left', left_on='ParcelId', right_index=True)\n",
    "    \n",
    "    df_submission.loc[:, col] = df_merge['pred']\n",
    "    print '{} finished'.format(col)"
   ]
  },
  {
   "cell_type": "code",
   "execution_count": null,
   "metadata": {
    "collapsed": true
   },
   "outputs": [],
   "source": [
    "# copy 201610, 201611 and 201612 to 2017\n",
    "for i in range(4, df_submission.shape[1]):\n",
    "    df_submission.iloc[:, i] = df_submission.iloc[:, i-3]"
   ]
  },
  {
   "cell_type": "code",
   "execution_count": null,
   "metadata": {
    "collapsed": true
   },
   "outputs": [],
   "source": []
  },
  {
   "cell_type": "markdown",
   "metadata": {},
   "source": [
    "# Create submission file"
   ]
  },
  {
   "cell_type": "code",
   "execution_count": null,
   "metadata": {
    "collapsed": true
   },
   "outputs": [],
   "source": [
    "df_submission.head()"
   ]
  },
  {
   "cell_type": "code",
   "execution_count": null,
   "metadata": {
    "collapsed": true
   },
   "outputs": [],
   "source": [
    "df_submission.to_csv('/Users/shuyangdu/Desktop/ZillowChallenge/submission/lightgbm_20170924.csv', index=False)"
   ]
  },
  {
   "cell_type": "markdown",
   "metadata": {},
   "source": [
    "# Save parameters"
   ]
  },
  {
   "cell_type": "code",
   "execution_count": 46,
   "metadata": {},
   "outputs": [
    {
     "data": {
      "text/plain": [
       "{'numeric': [('elasticnet',\n",
       "   ElasticNet(alpha=90, copy_X=True, fit_intercept=True, l1_ratio=0.85,\n",
       "         max_iter=1000, normalize=False, positive=False, precompute=False,\n",
       "         random_state=None, selection='cyclic', tol=0.0001, warm_start=False))],\n",
       " 'tree': [('lgbmregressor-1',\n",
       "   LGBMRegressor(bagging_fraction=0.85, bagging_freq=80, boosting_type='gbdt',\n",
       "          categorical_feature=[0, 1, 2, 3, 4, 5, 6, 7, 8, 9, 10, 11, 12, 13, 14, 15, 16, 17, 18, 19, 20],\n",
       "          colsample_bytree=1, feature_fraction=0.94, lambda_l2=86.9,\n",
       "          learning_rate=0.0116, max_bin=80, max_depth=-1,\n",
       "          min_child_samples=10, min_child_weight=5, min_split_gain=0,\n",
       "          n_estimators=250, nthread=1, num_leaves=110,\n",
       "          objective='regression_l1', reg_alpha=0, reg_lambda=0, seed=0,\n",
       "          silent=True, subsample=1, subsample_for_bin=50000, subsample_freq=1)),\n",
       "  ('lgbmregressor-2',\n",
       "   LGBMRegressor(bagging_fraction=0.85, bagging_freq=80, boosting_type='gbdt',\n",
       "          categorical_feature=[0, 1, 2, 3, 4, 5, 6, 7, 8, 9, 10, 11, 12, 13, 14, 15, 16, 17, 18, 19, 20],\n",
       "          colsample_bytree=1, feature_fraction=0.94, lambda_l2=86.9,\n",
       "          learning_rate=0.0116, max_bin=80, max_depth=-1,\n",
       "          min_child_samples=10, min_child_weight=5, min_split_gain=0,\n",
       "          n_estimators=150, nthread=1, num_leaves=110,\n",
       "          objective='regression_l1', reg_alpha=0, reg_lambda=0, seed=0,\n",
       "          silent=True, subsample=1, subsample_for_bin=50000, subsample_freq=1))]}"
      ]
     },
     "execution_count": 46,
     "metadata": {},
     "output_type": "execute_result"
    }
   ],
   "source": [
    "ens.layer_1.estimators"
   ]
  },
  {
   "cell_type": "code",
   "execution_count": 42,
   "metadata": {
    "collapsed": true
   },
   "outputs": [],
   "source": [
    "path_params = '/Users/shuyangdu/Desktop/ZillowChallenge/submission/params_20170910.txt'"
   ]
  },
  {
   "cell_type": "code",
   "execution_count": 45,
   "metadata": {
    "collapsed": true
   },
   "outputs": [],
   "source": [
    "with open(path_params, 'w') as file:\n",
    "     file.write(str(ens.layer_1.estimators))"
   ]
  },
  {
   "cell_type": "code",
   "execution_count": null,
   "metadata": {
    "collapsed": true
   },
   "outputs": [],
   "source": []
  }
 ],
 "metadata": {
  "kernelspec": {
   "display_name": "Python 2",
   "language": "python",
   "name": "python2"
  },
  "language_info": {
   "codemirror_mode": {
    "name": "ipython",
    "version": 2
   },
   "file_extension": ".py",
   "mimetype": "text/x-python",
   "name": "python",
   "nbconvert_exporter": "python",
   "pygments_lexer": "ipython2",
   "version": "2.7.13"
  }
 },
 "nbformat": 4,
 "nbformat_minor": 2
}
