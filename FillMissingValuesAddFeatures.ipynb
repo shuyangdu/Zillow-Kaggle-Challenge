{
 "cells": [
  {
   "cell_type": "code",
   "execution_count": 16,
   "metadata": {},
   "outputs": [
    {
     "name": "stdout",
     "output_type": "stream",
     "text": [
      "The autoreload extension is already loaded. To reload it, use:\n",
      "  %reload_ext autoreload\n"
     ]
    }
   ],
   "source": [
    "import pandas as pd\n",
    "import numpy as np\n",
    "from matplotlib import pyplot as plt\n",
    "import seaborn as sns\n",
    "from sklearn.metrics import accuracy_score\n",
    "from hyperopt import hp, fmin, tpe, Trials, space_eval, STATUS_OK\n",
    "from data_process.data_transform_processor import DataTransformProcessor\n",
    "from data_process.feature_engineer import FeatureEngineer\n",
    "from models.model_flow import ModelFlow\n",
    "from models.nn_models.dnn import DNN\n",
    "from lightgbm import LGBMRegressor, LGBMClassifier\n",
    "from sklearn.linear_model import ElasticNet\n",
    "from models.tree_models.lgbm import LGBM\n",
    "from models.backtest import BackTest\n",
    "%load_ext autoreload\n",
    "%autoreload 2\n",
    "%matplotlib inline\n",
    "%config InlineBackend.figure_format = 'retina'"
   ]
  },
  {
   "cell_type": "code",
   "execution_count": 2,
   "metadata": {
    "scrolled": true
   },
   "outputs": [],
   "source": [
    "df_properties = pd.read_csv(\n",
    "    '/Users/shuyangdu/Desktop/ZillowChallenge/data/raw_data/properties_2017.csv', \n",
    "    low_memory=False\n",
    ")"
   ]
  },
  {
   "cell_type": "code",
   "execution_count": 3,
   "metadata": {
    "collapsed": true
   },
   "outputs": [],
   "source": [
    "df_properties = FeatureEngineer.rename(df_properties)"
   ]
  },
  {
   "cell_type": "code",
   "execution_count": 7,
   "metadata": {},
   "outputs": [
    {
     "name": "stderr",
     "output_type": "stream",
     "text": [
      "/Users/shuyangdu/anaconda/envs/py27/lib/python2.7/site-packages/IPython/core/interactiveshell.py:2717: DtypeWarning: Columns (22,32,34,49,55) have mixed types. Specify dtype option on import or set low_memory=False.\n",
      "  interactivity=interactivity, compiler=compiler, result=result)\n"
     ]
    }
   ],
   "source": [
    "df_properties_2016 = pd.read_csv('/Users/shuyangdu/Desktop/ZillowChallenge/data/properties_2016_engineered_20170924.csv')"
   ]
  },
  {
   "cell_type": "code",
   "execution_count": 18,
   "metadata": {
    "scrolled": true
   },
   "outputs": [
    {
     "name": "stdout",
     "output_type": "stream",
     "text": [
      "logerror\n"
     ]
    }
   ],
   "source": [
    "for col in df_properties_2016.columns:\n",
    "    if col not in df_properties_engineered.columns:\n",
    "        print col"
   ]
  },
  {
   "cell_type": "code",
   "execution_count": 19,
   "metadata": {},
   "outputs": [
    {
     "data": {
      "text/plain": [
       "(2985217, 104)"
      ]
     },
     "execution_count": 19,
     "metadata": {},
     "output_type": "execute_result"
    }
   ],
   "source": [
    "df_properties_engineered.shape"
   ]
  },
  {
   "cell_type": "markdown",
   "metadata": {},
   "source": [
    "# Add features for properties"
   ]
  },
  {
   "cell_type": "code",
   "execution_count": 5,
   "metadata": {
    "collapsed": true,
    "scrolled": false
   },
   "outputs": [],
   "source": [
    "df_properties_engineered = FeatureEngineer.add_features_properties(df_properties)"
   ]
  },
  {
   "cell_type": "code",
   "execution_count": 6,
   "metadata": {},
   "outputs": [
    {
     "data": {
      "text/plain": [
       "(99,)"
      ]
     },
     "execution_count": 6,
     "metadata": {},
     "output_type": "execute_result"
    }
   ],
   "source": [
    "df_properties_engineered.columns.shape"
   ]
  },
  {
   "cell_type": "code",
   "execution_count": null,
   "metadata": {
    "collapsed": true
   },
   "outputs": [],
   "source": [
    "for col in "
   ]
  },
  {
   "cell_type": "markdown",
   "metadata": {},
   "source": [
    "# Add filled missing values"
   ]
  },
  {
   "cell_type": "code",
   "execution_count": 14,
   "metadata": {
    "collapsed": true
   },
   "outputs": [],
   "source": [
    "for region in ['zip', 'city', 'neighbor', 'county']:\n",
    "    df_fill = pd.read_csv('/Users/shuyangdu/Desktop/ZillowChallenge/data/properties_fill_region_{}.csv'.format(region))\n",
    "    df_properties_engineered['region_{}_filled'.format(region)] = df_fill['region_{}'.format(region)]"
   ]
  },
  {
   "cell_type": "code",
   "execution_count": 17,
   "metadata": {},
   "outputs": [],
   "source": [
    "df_properties_engineered = FeatureEngineer.fill_missing_value_stats(df_properties_engineered)"
   ]
  },
  {
   "cell_type": "code",
   "execution_count": null,
   "metadata": {
    "collapsed": true
   },
   "outputs": [],
   "source": []
  },
  {
   "cell_type": "code",
   "execution_count": 20,
   "metadata": {
    "scrolled": true
   },
   "outputs": [
    {
     "name": "stdout",
     "output_type": "stream",
     "text": [
      "id_parcel 0.0\n",
      "aircon 0.72686675709\n",
      "architectural_style 0.997969661837\n",
      "area_basement 0.999454980995\n",
      "num_bathroom 0.000990547755825\n",
      "num_bedroom 0.00098652794755\n",
      "framing 0.995735318404\n",
      "quality 0.34966369279\n",
      "num_bathroom_calc 0.0392453881912\n",
      "deck 0.994178312665\n",
      "area_firstfloor_finished 0.931744325454\n",
      "area_total_finished_calc 0.0151067744824\n",
      "area_live_finished 0.0885801601693\n",
      "area_liveperi_finished 0.99743033756\n",
      "area_total_finished 0.936291063598\n",
      "area_live_entry_finished 0.931744325454\n",
      "area_basic 0.992803873219\n",
      "fips 0.000982173155251\n",
      "num_fireplace 0.895108462802\n",
      "num_bathroom_full 0.0392453881912\n",
      "num_garage 0.701526555691\n",
      "area_garage 0.701526555691\n",
      "flag_tub 0.983230029844\n",
      "heating 0.373859923751\n",
      "latitude 0.000982173155251\n",
      "longitude 0.000982173155251\n",
      "area_lot 0.0913521529591\n",
      "num_pool 0.819231901734\n",
      "area_pool 0.990634516687\n",
      "flag_hot_tub 0.994303261706\n",
      "flag_spa 0.988926768138\n",
      "flag_no_tub_or_spa 0.830533257716\n",
      "zoning_landuse_county 0.00100461708479\n",
      "zoning_landuse 0.000982173155251\n",
      "zoning_property 0.335903889064\n",
      "census_block_id 0.000982173155251\n",
      "region_city 0.020811887377\n",
      "region_county 0.000982173155251\n",
      "region_neighbor 0.612510246324\n",
      "region_zip 0.00425898686762\n",
      "num_room 0.0009945675641\n",
      "story 0.999456320931\n",
      "num_bathroom_quarter 0.894025459456\n",
      "material 0.997740197781\n",
      "num_unit 0.336382581233\n",
      "area_patio 0.972669323537\n",
      "area_shed 0.999113632275\n",
      "build_year 0.0160232907691\n",
      "num_story 0.770309495089\n",
      "flag_fireplace 0.99827047749\n",
      "value_building 0.0155646976417\n",
      "value_total 0.01147856253\n",
      "tax_year 0.000982508139274\n",
      "value_land 0.0200742525585\n",
      "value_tax_property 0.00762155648986\n",
      "tax_flag_delinquency 0.981068377944\n",
      "tax_delinquency_year 0.981067707976\n",
      "censustractandblock 0.0251187769599\n",
      "ratio_value_land_vs_building 0.0241603876703\n",
      "ratio_value_tax_property_vs_total 0.0156879717622\n",
      "ratio_area_living_vs_total 0.0953227185829\n",
      "avg_city_area_lot 0.020811887377\n",
      "avg_zip_area_lot 0.00429282025394\n",
      "deviation_city_area_lot 0.107078982868\n",
      "deviation_zip_area_lot 0.0921346756366\n",
      "avg_city_area_total_finished_calc 0.020825621722\n",
      "avg_zip_area_total_finished_calc 0.00426367664394\n",
      "deviation_city_area_total_finished_calc 0.0333546941479\n",
      "deviation_zip_area_total_finished_calc 0.0173722714295\n",
      "avg_city_value_building 0.020811887377\n",
      "avg_zip_value_building 0.00425932185164\n",
      "deviation_city_value_building 0.0342008637898\n",
      "deviation_zip_value_building 0.0182211209436\n",
      "avg_city_value_tax_property 0.020811887377\n",
      "avg_zip_value_tax_property 0.00425965683567\n",
      "deviation_city_value_tax_property 0.0271836184773\n",
      "deviation_zip_value_tax_property 0.0107680614173\n",
      "avg_city_value_total 0.020811887377\n",
      "avg_zip_value_total 0.00425898686762\n",
      "deviation_city_value_total 0.0308523634965\n",
      "deviation_zip_value_total 0.0146401417384\n",
      "count_properties_zip 0.00425898686762\n",
      "count_properties_city 0.020811887377\n",
      "count_properties_neighbor 0.612510246324\n",
      "latitude_cos 0.000982173155251\n",
      "longitude_cos 0.000982173155251\n",
      "latitude_times_longitude 0.000982173155251\n",
      "area_lot_square 0.0913521529591\n",
      "area_total_finished_calc_square 0.0151067744824\n",
      "value_building_square 0.0155646976417\n",
      "value_tax_property_square 0.00762155648986\n",
      "value_total_square 0.01147856253\n",
      "area_room_avg 0.776806175229\n",
      "num_extra_room 0.0009945675641\n",
      "area_extra 0.0953227185829\n",
      "flag_nan_region_zip 0.0\n",
      "flag_nan_region_city 0.0\n",
      "flag_nan_region_neighbor 0.0\n",
      "flag_nan_region_county 0.0\n",
      "region_zip_filled 0.0\n",
      "region_city_filled 0.0\n",
      "region_neighbor_filled 0.0\n",
      "region_county_filled 0.0\n",
      "area_pool_filled 0.00936548331327\n"
     ]
    }
   ],
   "source": [
    "for col in df_properties_engineered:\n",
    "    print col, df_properties_engineered[col].isnull().sum() / float(len(df_properties_engineered))"
   ]
  },
  {
   "cell_type": "code",
   "execution_count": 21,
   "metadata": {
    "collapsed": true
   },
   "outputs": [],
   "source": [
    "save_path='/Users/shuyangdu/Desktop/ZillowChallenge/data/properties_2017_engineered_20171007.csv'"
   ]
  },
  {
   "cell_type": "code",
   "execution_count": 22,
   "metadata": {
    "collapsed": true
   },
   "outputs": [],
   "source": [
    "df_properties_engineered.to_csv(save_path, index=False)"
   ]
  },
  {
   "cell_type": "markdown",
   "metadata": {},
   "source": [
    "# Merge with transactions and further feature engineering"
   ]
  },
  {
   "cell_type": "code",
   "execution_count": 23,
   "metadata": {
    "collapsed": true
   },
   "outputs": [],
   "source": [
    "df_train = pd.read_csv('/Users/shuyangdu/Desktop/ZillowChallenge/data/raw_data/train_2017.csv')"
   ]
  },
  {
   "cell_type": "code",
   "execution_count": 28,
   "metadata": {},
   "outputs": [
    {
     "name": "stderr",
     "output_type": "stream",
     "text": [
      "/Users/shuyangdu/anaconda/envs/py27/lib/python2.7/site-packages/IPython/core/interactiveshell.py:2717: DtypeWarning: Columns (52) have mixed types. Specify dtype option on import or set low_memory=False.\n",
      "  interactivity=interactivity, compiler=compiler, result=result)\n"
     ]
    }
   ],
   "source": [
    "df_merged_0924 = pd.read_csv('/Users/shuyangdu/Desktop/ZillowChallenge/data/df_merged_20170924.csv')"
   ]
  },
  {
   "cell_type": "code",
   "execution_count": 24,
   "metadata": {
    "collapsed": true
   },
   "outputs": [],
   "source": [
    "df_merged = FeatureEngineer.merge(df_properties_engineered, df_train)"
   ]
  },
  {
   "cell_type": "code",
   "execution_count": 26,
   "metadata": {
    "collapsed": true
   },
   "outputs": [],
   "source": [
    "df_merged = FeatureEngineer.add_features_transactions(df_merged)"
   ]
  },
  {
   "cell_type": "code",
   "execution_count": 40,
   "metadata": {},
   "outputs": [],
   "source": [
    "df_merged_0924 = FeatureEngineer.add_features_transactions(df_merged_0924)"
   ]
  },
  {
   "cell_type": "code",
   "execution_count": 41,
   "metadata": {},
   "outputs": [
    {
     "data": {
      "text/plain": [
       "(90275, 109)"
      ]
     },
     "execution_count": 41,
     "metadata": {},
     "output_type": "execute_result"
    }
   ],
   "source": [
    "df_merged_0924.shape"
   ]
  },
  {
   "cell_type": "code",
   "execution_count": 42,
   "metadata": {},
   "outputs": [
    {
     "data": {
      "text/plain": [
       "(77613, 109)"
      ]
     },
     "execution_count": 42,
     "metadata": {},
     "output_type": "execute_result"
    }
   ],
   "source": [
    "df_merged.shape"
   ]
  },
  {
   "cell_type": "code",
   "execution_count": 47,
   "metadata": {
    "collapsed": true
   },
   "outputs": [],
   "source": [
    "df_merged_concat = pd.concat([df_merged_0924, df_merged], axis=0, ignore_index=True)"
   ]
  },
  {
   "cell_type": "code",
   "execution_count": 50,
   "metadata": {
    "collapsed": true
   },
   "outputs": [],
   "source": [
    "df_merged_concat.to_csv('/Users/shuyangdu/Desktop/ZillowChallenge/data/df_merged_20171007.csv', index=False)"
   ]
  },
  {
   "cell_type": "code",
   "execution_count": null,
   "metadata": {
    "collapsed": true
   },
   "outputs": [],
   "source": []
  },
  {
   "cell_type": "code",
   "execution_count": null,
   "metadata": {
    "collapsed": true
   },
   "outputs": [],
   "source": []
  },
  {
   "cell_type": "markdown",
   "metadata": {},
   "source": [
    "# ----Computation Heavy----"
   ]
  },
  {
   "cell_type": "markdown",
   "metadata": {},
   "source": [
    "# Model based fill missing values"
   ]
  },
  {
   "cell_type": "code",
   "execution_count": null,
   "metadata": {
    "collapsed": true
   },
   "outputs": [],
   "source": []
  },
  {
   "cell_type": "code",
   "execution_count": 4,
   "metadata": {
    "collapsed": true
   },
   "outputs": [],
   "source": [
    "y_col = 'region_zip'\n",
    "X_numerical_cols = ['latitude', 'longitude']\n",
    "X_categorical_cols = ['region_neighbor', 'region_county', 'region_city']"
   ]
  },
  {
   "cell_type": "code",
   "execution_count": 5,
   "metadata": {
    "collapsed": true
   },
   "outputs": [],
   "source": [
    "data_transform_processor = DataTransformProcessor(\n",
    "    numerical_cols=X_numerical_cols, \n",
    "    categorical_cols=X_categorical_cols,\n",
    "    log_cols=[]\n",
    ")"
   ]
  },
  {
   "cell_type": "code",
   "execution_count": 6,
   "metadata": {
    "collapsed": true
   },
   "outputs": [],
   "source": [
    "idx_train = df_properties[y_col].notnull().values"
   ]
  },
  {
   "cell_type": "code",
   "execution_count": 7,
   "metadata": {
    "collapsed": true
   },
   "outputs": [],
   "source": [
    "X_all = data_transform_processor.pre_process(df_properties)"
   ]
  },
  {
   "cell_type": "code",
   "execution_count": 8,
   "metadata": {
    "collapsed": true
   },
   "outputs": [],
   "source": [
    "y_all = df_properties[y_col].values"
   ]
  },
  {
   "cell_type": "code",
   "execution_count": 9,
   "metadata": {
    "collapsed": true
   },
   "outputs": [],
   "source": [
    "params = {\n",
    "    'max_bin': 80,\n",
    "    'learning_rate': 0.0216,\n",
    "    'boosting_type': 'gbdt',\n",
    "    'objective': 'multiclass',\n",
    "    'num_class': len(np.unique(y_all[idx_train])),\n",
    "    'feature_fraction': 0.94,\n",
    "    'bagging_fraction': 0.85,\n",
    "    'bagging_freq': 80,\n",
    "    'num_leaves': 60,\n",
    "    'n_estimators': 200,\n",
    "}"
   ]
  },
  {
   "cell_type": "code",
   "execution_count": 10,
   "metadata": {
    "collapsed": true
   },
   "outputs": [],
   "source": [
    "model = LGBM(is_classifier=True, categorical_feature=data_transform_processor.categorical_col_idx, **params)"
   ]
  },
  {
   "cell_type": "code",
   "execution_count": 11,
   "metadata": {
    "collapsed": true
   },
   "outputs": [],
   "source": [
    "X_train = data_transform_processor.fit_transform(X_all[idx_train])\n",
    "y_train = y_all[idx_train]"
   ]
  },
  {
   "cell_type": "code",
   "execution_count": 14,
   "metadata": {},
   "outputs": [
    {
     "name": "stdout",
     "output_type": "stream",
     "text": [
      "CPU times: user 1d 7h 50min 1s, sys: 8h 50min 9s, total: 1d 16h 40min 11s\n",
      "Wall time: 8h 36min 5s\n"
     ]
    }
   ],
   "source": [
    "%%time\n",
    "model.fit(X_train, y_train)"
   ]
  },
  {
   "cell_type": "code",
   "execution_count": 15,
   "metadata": {
    "collapsed": true
   },
   "outputs": [],
   "source": [
    "X_pred = data_transform_processor.transform(X_all[~idx_train])"
   ]
  },
  {
   "cell_type": "code",
   "execution_count": 16,
   "metadata": {},
   "outputs": [
    {
     "name": "stdout",
     "output_type": "stream",
     "text": [
      "CPU times: user 13min 48s, sys: 9.69 s, total: 13min 58s\n",
      "Wall time: 2min 3s\n"
     ]
    }
   ],
   "source": [
    "%%time\n",
    "y_pred = model.predict(X_pred)"
   ]
  },
  {
   "cell_type": "code",
   "execution_count": 17,
   "metadata": {
    "collapsed": true
   },
   "outputs": [],
   "source": [
    "y_all[~idx_train] = y_pred"
   ]
  },
  {
   "cell_type": "code",
   "execution_count": 18,
   "metadata": {
    "collapsed": true
   },
   "outputs": [],
   "source": [
    "df_region = pd.DataFrame(y_all, columns=[y_col])"
   ]
  },
  {
   "cell_type": "code",
   "execution_count": 19,
   "metadata": {
    "collapsed": true
   },
   "outputs": [],
   "source": [
    "df_region.to_csv(\n",
    "    '/Users/shuyangdu/Desktop/ZillowChallenge/data/properties_fill_{}.csv'.format(y_col), \n",
    "    index=False\n",
    ")"
   ]
  },
  {
   "cell_type": "code",
   "execution_count": null,
   "metadata": {
    "collapsed": true
   },
   "outputs": [],
   "source": []
  }
 ],
 "metadata": {
  "kernelspec": {
   "display_name": "Python 2",
   "language": "python",
   "name": "python2"
  },
  "language_info": {
   "codemirror_mode": {
    "name": "ipython",
    "version": 2
   },
   "file_extension": ".py",
   "mimetype": "text/x-python",
   "name": "python",
   "nbconvert_exporter": "python",
   "pygments_lexer": "ipython2",
   "version": "2.7.13"
  }
 },
 "nbformat": 4,
 "nbformat_minor": 2
}
