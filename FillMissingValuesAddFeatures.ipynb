{
 "cells": [
  {
   "cell_type": "code",
   "execution_count": 1,
   "metadata": {},
   "outputs": [
    {
     "name": "stderr",
     "output_type": "stream",
     "text": [
      "Using TensorFlow backend.\n"
     ]
    }
   ],
   "source": [
    "import pandas as pd\n",
    "import numpy as np\n",
    "from matplotlib import pyplot as plt\n",
    "import seaborn as sns\n",
    "from sklearn.metrics import accuracy_score\n",
    "from hyperopt import hp, fmin, tpe, Trials, space_eval, STATUS_OK\n",
    "from data_process.data_transform_processor import DataTransformProcessor\n",
    "from data_process.feature_engineer import FeatureEngineer\n",
    "from models.model_flow import ModelFlow\n",
    "from models.nn_models.dnn import DNN\n",
    "from lightgbm import LGBMRegressor, LGBMClassifier\n",
    "from sklearn.linear_model import ElasticNet\n",
    "from models.tree_models.lgbm import LGBM\n",
    "from models.backtest import BackTest\n",
    "%load_ext autoreload\n",
    "%autoreload 2\n",
    "%matplotlib inline\n",
    "%config InlineBackend.figure_format = 'retina'"
   ]
  },
  {
   "cell_type": "code",
   "execution_count": 2,
   "metadata": {
    "scrolled": true
   },
   "outputs": [
    {
     "name": "stderr",
     "output_type": "stream",
     "text": [
      "/Users/shuyangdu/anaconda/envs/py27/lib/python2.7/site-packages/IPython/core/interactiveshell.py:2717: DtypeWarning: Columns (22,32,34,49,55) have mixed types. Specify dtype option on import or set low_memory=False.\n",
      "  interactivity=interactivity, compiler=compiler, result=result)\n"
     ]
    }
   ],
   "source": [
    "df_properties = pd.read_csv('/Users/shuyangdu/Desktop/ZillowChallenge/data/raw_data/properties_2016.csv')"
   ]
  },
  {
   "cell_type": "code",
   "execution_count": 3,
   "metadata": {
    "collapsed": true
   },
   "outputs": [],
   "source": [
    "df_properties = FeatureEngineer.rename(df_properties)"
   ]
  },
  {
   "cell_type": "markdown",
   "metadata": {},
   "source": [
    "# Add features for properties"
   ]
  },
  {
   "cell_type": "code",
   "execution_count": 4,
   "metadata": {
    "collapsed": true,
    "scrolled": false
   },
   "outputs": [],
   "source": [
    "df_properties_engineered = FeatureEngineer.add_features_properties(df_properties)"
   ]
  },
  {
   "cell_type": "code",
   "execution_count": 5,
   "metadata": {},
   "outputs": [
    {
     "data": {
      "text/plain": [
       "(99,)"
      ]
     },
     "execution_count": 5,
     "metadata": {},
     "output_type": "execute_result"
    }
   ],
   "source": [
    "df_properties_engineered.columns.shape"
   ]
  },
  {
   "cell_type": "markdown",
   "metadata": {},
   "source": [
    "# Add filled missing values"
   ]
  },
  {
   "cell_type": "code",
   "execution_count": 8,
   "metadata": {
    "collapsed": true
   },
   "outputs": [],
   "source": [
    "for region in ['zip', 'city', 'neighbor', 'county']:\n",
    "    df_fill = pd.read_csv('/Users/shuyangdu/Desktop/ZillowChallenge/data/properties_fill_region_{}.csv'.format(region))\n",
    "    df_properties_engineered['region_{}_filled'.format(region)] = df_fill['region_{}'.format(region)]"
   ]
  },
  {
   "cell_type": "code",
   "execution_count": 13,
   "metadata": {
    "collapsed": true
   },
   "outputs": [],
   "source": [
    "df_properties_engineered = FeatureEngineer.fill_missing_value(df_properties_engineered)"
   ]
  },
  {
   "cell_type": "code",
   "execution_count": null,
   "metadata": {
    "collapsed": true
   },
   "outputs": [],
   "source": []
  },
  {
   "cell_type": "code",
   "execution_count": 14,
   "metadata": {
    "scrolled": true
   },
   "outputs": [
    {
     "name": "stdout",
     "output_type": "stream",
     "text": [
      "id_parcel 0.0\n",
      "aircon 0.72815410069\n",
      "architectural_style 0.997969661837\n",
      "area_basement 0.999454646011\n",
      "num_bathroom 0.0038395868709\n",
      "num_bedroom 0.00383556706263\n",
      "framing 0.995769486774\n",
      "quality 0.350637491345\n",
      "num_bathroom_calc 0.0431834603649\n",
      "deck 0.994273113144\n",
      "area_firstfloor_finished 0.932093043822\n",
      "area_total_finished_calc 0.0186133872345\n",
      "area_live_finished 0.0924666448034\n",
      "area_liveperi_finished 0.997430002576\n",
      "area_total_finished 0.936085718392\n",
      "area_live_entry_finished 0.932093043822\n",
      "area_basic 0.992630016511\n",
      "fips 0.00383121227033\n",
      "num_fireplace 0.895271600021\n",
      "num_bathroom_full 0.0431834603649\n",
      "num_garage 0.704119667012\n",
      "area_garage 0.704119667012\n",
      "flag_tub 0.976881412641\n",
      "heating 0.394884525983\n",
      "latitude 0.00383121227033\n",
      "longitude 0.00383121227033\n",
      "area_lot 0.0924887537489\n",
      "num_pool 0.826634378673\n",
      "area_pool 0.0\n",
      "flag_hot_tub 0.987626025177\n",
      "flag_spa 0.989255387464\n",
      "flag_no_tub_or_spa 0.837378991209\n",
      "zoning_landuse_county 0.0041125988496\n",
      "zoning_landuse 0.00383121227033\n",
      "zoning_property 0.33719089768\n",
      "census_block_id 0.00383121227033\n",
      "region_city 0.0210520709215\n",
      "region_county 0.00383121227033\n",
      "region_neighbor 0.612623805908\n",
      "region_zip 0.00468307664066\n",
      "num_room 0.0038439416632\n",
      "story 0.999455985947\n",
      "num_bathroom_quarter 0.895608593948\n",
      "material 0.997739862797\n",
      "num_unit 0.337572444482\n",
      "area_patio 0.973082358837\n",
      "area_shed 0.999113297291\n",
      "build_year 0.0200749225266\n",
      "num_story 0.771517782459\n",
      "flag_fireplace 0.99827047749\n",
      "value_building 0.0184180915491\n",
      "value_total 0.014253570176\n",
      "tax_year 0.00383188223838\n",
      "value_land 0.0226894728256\n",
      "value_tax_property 0.0104682507168\n",
      "tax_flag_delinquency 0.981086132097\n",
      "tax_delinquency_year 0.981085462129\n",
      "censustractandblock 0.0251660097072\n",
      "ratio_value_land_vs_building 0.0268539941987\n",
      "ratio_value_tax_property_vs_total 0.018475038833\n",
      "ratio_area_living_vs_total 0.0967966482839\n",
      "avg_city_area_lot 0.0210520709215\n",
      "avg_zip_area_lot 0.004717245011\n",
      "deviation_city_area_lot 0.107833366888\n",
      "deviation_zip_area_lot 0.0930240582175\n",
      "avg_city_area_total_finished_calc 0.0210658052664\n",
      "avg_zip_area_total_finished_calc 0.00468877136905\n",
      "deviation_city_area_total_finished_calc 0.0347924455743\n",
      "deviation_zip_area_total_finished_calc 0.0191071536843\n",
      "avg_city_value_building 0.0210520709215\n",
      "avg_zip_value_building 0.00468374660871\n",
      "deviation_city_value_building 0.0348091947755\n",
      "deviation_zip_value_building 0.0190451816401\n",
      "avg_city_value_tax_property 0.0210520709215\n",
      "avg_zip_value_tax_property 0.00468374660871\n",
      "deviation_city_value_tax_property 0.0274495957915\n",
      "deviation_zip_value_tax_property 0.0112142601359\n",
      "avg_city_value_total 0.0210520709215\n",
      "avg_zip_value_total 0.00468307664066\n",
      "deviation_city_value_total 0.0311170008746\n",
      "deviation_zip_value_total 0.0150776308724\n",
      "count_properties_zip 0.00468307664066\n",
      "count_properties_city 0.0210520709215\n",
      "count_properties_neighbor 0.612623805908\n",
      "latitude_cos 0.00383121227033\n",
      "longitude_cos 0.00383121227033\n",
      "latitude_times_longitude 0.00383121227033\n",
      "area_lot_square 0.0924887537489\n",
      "area_total_finished_calc_square 0.0186133872345\n",
      "value_building_square 0.0184180915491\n",
      "value_tax_property_square 0.0104682507168\n",
      "value_total_square 0.014253570176\n",
      "area_room_avg 0.018621091867\n",
      "num_extra_room 0.0038439416632\n",
      "area_extra 0.0967966482839\n",
      "flag_nan_region_zip 0.0\n",
      "flag_nan_region_city 0.0\n",
      "flag_nan_region_neighbor 0.0\n",
      "flag_nan_region_county 0.0\n",
      "region_zip_filled 0.0\n",
      "region_city_filled 0.0\n",
      "region_neighbor_filled 0.0\n",
      "region_county_filled 0.0\n"
     ]
    }
   ],
   "source": [
    "for col in df_properties_engineered:\n",
    "    print col, df_properties_engineered[col].isnull().sum() / float(len(df_properties_engineered))"
   ]
  },
  {
   "cell_type": "code",
   "execution_count": 4,
   "metadata": {
    "collapsed": true
   },
   "outputs": [],
   "source": [
    "save_path='/Users/shuyangdu/Desktop/ZillowChallenge/data/properties_2016_engineered_20170923.csv'"
   ]
  },
  {
   "cell_type": "code",
   "execution_count": 16,
   "metadata": {
    "collapsed": true
   },
   "outputs": [],
   "source": [
    "df_properties_engineered.to_csv(save_path, index=False)"
   ]
  },
  {
   "cell_type": "markdown",
   "metadata": {},
   "source": [
    "# Merge with transactions and further feature engineering"
   ]
  },
  {
   "cell_type": "code",
   "execution_count": 17,
   "metadata": {
    "collapsed": true
   },
   "outputs": [],
   "source": [
    "df_train = pd.read_csv('/Users/shuyangdu/Desktop/ZillowChallenge/data/raw_data/train_2016_v2.csv')"
   ]
  },
  {
   "cell_type": "code",
   "execution_count": 25,
   "metadata": {
    "collapsed": true
   },
   "outputs": [],
   "source": [
    "df_merged = FeatureEngineer.merge(df_properties_engineered, df_train)"
   ]
  },
  {
   "cell_type": "code",
   "execution_count": 26,
   "metadata": {},
   "outputs": [
    {
     "data": {
      "text/plain": [
       "(90275, 105)"
      ]
     },
     "execution_count": 26,
     "metadata": {},
     "output_type": "execute_result"
    }
   ],
   "source": [
    "df_merged.shape"
   ]
  },
  {
   "cell_type": "code",
   "execution_count": 27,
   "metadata": {
    "collapsed": true
   },
   "outputs": [],
   "source": [
    "df_merged = FeatureEngineer.add_features_transactions(df_merged)"
   ]
  },
  {
   "cell_type": "code",
   "execution_count": 28,
   "metadata": {},
   "outputs": [
    {
     "data": {
      "text/plain": [
       "(90275, 107)"
      ]
     },
     "execution_count": 28,
     "metadata": {},
     "output_type": "execute_result"
    }
   ],
   "source": [
    "df_merged.shape"
   ]
  },
  {
   "cell_type": "code",
   "execution_count": 49,
   "metadata": {
    "collapsed": true
   },
   "outputs": [],
   "source": [
    "df_merged.to_csv('/Users/shuyangdu/Desktop/ZillowChallenge/data/df_merged_20170923.csv', index=False)"
   ]
  },
  {
   "cell_type": "code",
   "execution_count": null,
   "metadata": {
    "collapsed": true
   },
   "outputs": [],
   "source": []
  },
  {
   "cell_type": "code",
   "execution_count": 5,
   "metadata": {},
   "outputs": [
    {
     "name": "stderr",
     "output_type": "stream",
     "text": [
      "/Users/shuyangdu/anaconda/envs/py27/lib/python2.7/site-packages/IPython/core/interactiveshell.py:2717: DtypeWarning: Columns (22,32,34,49,55) have mixed types. Specify dtype option on import or set low_memory=False.\n",
      "  interactivity=interactivity, compiler=compiler, result=result)\n"
     ]
    }
   ],
   "source": [
    "df_properties = pd.read_csv(save_path)"
   ]
  },
  {
   "cell_type": "code",
   "execution_count": null,
   "metadata": {},
   "outputs": [],
   "source": [
    "flag_multiple_sales = df_merged.groupby('id_parcel').max()['flag_multiple_sales']"
   ]
  },
  {
   "cell_type": "code",
   "execution_count": 9,
   "metadata": {},
   "outputs": [
    {
     "ename": "InvalidIndexError",
     "evalue": "Reindexing only valid with uniquely valued Index objects",
     "output_type": "error",
     "traceback": [
      "\u001b[0;31m------------------------------------------------------------------------\u001b[0m",
      "\u001b[0;31mInvalidIndexError\u001b[0m                      Traceback (most recent call last)",
      "\u001b[0;32m<ipython-input-9-406405d85ab1>\u001b[0m in \u001b[0;36m<module>\u001b[0;34m()\u001b[0m\n\u001b[0;32m----> 1\u001b[0;31m \u001b[0mdf_properties\u001b[0m\u001b[0;34m[\u001b[0m\u001b[0;34m'id_parcel'\u001b[0m\u001b[0;34m]\u001b[0m\u001b[0;34m.\u001b[0m\u001b[0mmap\u001b[0m\u001b[0;34m(\u001b[0m\u001b[0mflag_multiple_sales\u001b[0m\u001b[0;34m)\u001b[0m\u001b[0;34m\u001b[0m\u001b[0m\n\u001b[0m",
      "\u001b[0;32m/Users/shuyangdu/anaconda/envs/py27/lib/python2.7/site-packages/pandas/core/series.pyc\u001b[0m in \u001b[0;36mmap\u001b[0;34m(self, arg, na_action)\u001b[0m\n\u001b[1;32m   2152\u001b[0m         \u001b[0;32mif\u001b[0m \u001b[0misinstance\u001b[0m\u001b[0;34m(\u001b[0m\u001b[0marg\u001b[0m\u001b[0;34m,\u001b[0m \u001b[0mSeries\u001b[0m\u001b[0;34m)\u001b[0m\u001b[0;34m:\u001b[0m\u001b[0;34m\u001b[0m\u001b[0m\n\u001b[1;32m   2153\u001b[0m             \u001b[0;31m# arg is a Series\u001b[0m\u001b[0;34m\u001b[0m\u001b[0;34m\u001b[0m\u001b[0m\n\u001b[0;32m-> 2154\u001b[0;31m             \u001b[0mindexer\u001b[0m \u001b[0;34m=\u001b[0m \u001b[0marg\u001b[0m\u001b[0;34m.\u001b[0m\u001b[0mindex\u001b[0m\u001b[0;34m.\u001b[0m\u001b[0mget_indexer\u001b[0m\u001b[0;34m(\u001b[0m\u001b[0mvalues\u001b[0m\u001b[0;34m)\u001b[0m\u001b[0;34m\u001b[0m\u001b[0m\n\u001b[0m\u001b[1;32m   2155\u001b[0m             \u001b[0mnew_values\u001b[0m \u001b[0;34m=\u001b[0m \u001b[0malgorithms\u001b[0m\u001b[0;34m.\u001b[0m\u001b[0mtake_1d\u001b[0m\u001b[0;34m(\u001b[0m\u001b[0marg\u001b[0m\u001b[0;34m.\u001b[0m\u001b[0m_values\u001b[0m\u001b[0;34m,\u001b[0m \u001b[0mindexer\u001b[0m\u001b[0;34m)\u001b[0m\u001b[0;34m\u001b[0m\u001b[0m\n\u001b[1;32m   2156\u001b[0m         \u001b[0;32melse\u001b[0m\u001b[0;34m:\u001b[0m\u001b[0;34m\u001b[0m\u001b[0m\n",
      "\u001b[0;32m/Users/shuyangdu/anaconda/envs/py27/lib/python2.7/site-packages/pandas/core/indexes/base.pyc\u001b[0m in \u001b[0;36mget_indexer\u001b[0;34m(self, target, method, limit, tolerance)\u001b[0m\n\u001b[1;32m   2581\u001b[0m \u001b[0;34m\u001b[0m\u001b[0m\n\u001b[1;32m   2582\u001b[0m         \u001b[0;32mif\u001b[0m \u001b[0;32mnot\u001b[0m \u001b[0mself\u001b[0m\u001b[0;34m.\u001b[0m\u001b[0mis_unique\u001b[0m\u001b[0;34m:\u001b[0m\u001b[0;34m\u001b[0m\u001b[0m\n\u001b[0;32m-> 2583\u001b[0;31m             raise InvalidIndexError('Reindexing only valid with uniquely'\n\u001b[0m\u001b[1;32m   2584\u001b[0m                                     ' valued Index objects')\n\u001b[1;32m   2585\u001b[0m \u001b[0;34m\u001b[0m\u001b[0m\n",
      "\u001b[0;31mInvalidIndexError\u001b[0m: Reindexing only valid with uniquely valued Index objects"
     ]
    }
   ],
   "source": [
    "df_properties['id_parcel'].map(flag_multiple_sales)"
   ]
  },
  {
   "cell_type": "code",
   "execution_count": null,
   "metadata": {
    "collapsed": true
   },
   "outputs": [],
   "source": []
  },
  {
   "cell_type": "markdown",
   "metadata": {},
   "source": [
    "# ----Computation Heavy----"
   ]
  },
  {
   "cell_type": "markdown",
   "metadata": {},
   "source": [
    "# Model based fill missing values"
   ]
  },
  {
   "cell_type": "code",
   "execution_count": null,
   "metadata": {
    "collapsed": true
   },
   "outputs": [],
   "source": []
  },
  {
   "cell_type": "code",
   "execution_count": 4,
   "metadata": {
    "collapsed": true
   },
   "outputs": [],
   "source": [
    "y_col = 'region_zip'\n",
    "X_numerical_cols = ['latitude', 'longitude']\n",
    "X_categorical_cols = ['region_neighbor', 'region_county', 'region_city']"
   ]
  },
  {
   "cell_type": "code",
   "execution_count": 5,
   "metadata": {
    "collapsed": true
   },
   "outputs": [],
   "source": [
    "data_transform_processor = DataTransformProcessor(\n",
    "    numerical_cols=X_numerical_cols, \n",
    "    categorical_cols=X_categorical_cols,\n",
    "    log_cols=[]\n",
    ")"
   ]
  },
  {
   "cell_type": "code",
   "execution_count": 6,
   "metadata": {
    "collapsed": true
   },
   "outputs": [],
   "source": [
    "idx_train = df_properties[y_col].notnull().values"
   ]
  },
  {
   "cell_type": "code",
   "execution_count": 7,
   "metadata": {
    "collapsed": true
   },
   "outputs": [],
   "source": [
    "X_all = data_transform_processor.pre_process(df_properties)"
   ]
  },
  {
   "cell_type": "code",
   "execution_count": 8,
   "metadata": {
    "collapsed": true
   },
   "outputs": [],
   "source": [
    "y_all = df_properties[y_col].values"
   ]
  },
  {
   "cell_type": "code",
   "execution_count": 9,
   "metadata": {
    "collapsed": true
   },
   "outputs": [],
   "source": [
    "params = {\n",
    "    'max_bin': 80,\n",
    "    'learning_rate': 0.0216,\n",
    "    'boosting_type': 'gbdt',\n",
    "    'objective': 'multiclass',\n",
    "    'num_class': len(np.unique(y_all[idx_train])),\n",
    "    'feature_fraction': 0.94,\n",
    "    'bagging_fraction': 0.85,\n",
    "    'bagging_freq': 80,\n",
    "    'num_leaves': 60,\n",
    "    'n_estimators': 200,\n",
    "}"
   ]
  },
  {
   "cell_type": "code",
   "execution_count": 10,
   "metadata": {
    "collapsed": true
   },
   "outputs": [],
   "source": [
    "model = LGBM(is_classifier=True, categorical_feature=data_transform_processor.categorical_col_idx, **params)"
   ]
  },
  {
   "cell_type": "code",
   "execution_count": 11,
   "metadata": {
    "collapsed": true
   },
   "outputs": [],
   "source": [
    "X_train = data_transform_processor.fit_transform(X_all[idx_train])\n",
    "y_train = y_all[idx_train]"
   ]
  },
  {
   "cell_type": "code",
   "execution_count": 14,
   "metadata": {},
   "outputs": [
    {
     "name": "stdout",
     "output_type": "stream",
     "text": [
      "CPU times: user 1d 7h 50min 1s, sys: 8h 50min 9s, total: 1d 16h 40min 11s\n",
      "Wall time: 8h 36min 5s\n"
     ]
    }
   ],
   "source": [
    "%%time\n",
    "model.fit(X_train, y_train)"
   ]
  },
  {
   "cell_type": "code",
   "execution_count": 15,
   "metadata": {
    "collapsed": true
   },
   "outputs": [],
   "source": [
    "X_pred = data_transform_processor.transform(X_all[~idx_train])"
   ]
  },
  {
   "cell_type": "code",
   "execution_count": 16,
   "metadata": {},
   "outputs": [
    {
     "name": "stdout",
     "output_type": "stream",
     "text": [
      "CPU times: user 13min 48s, sys: 9.69 s, total: 13min 58s\n",
      "Wall time: 2min 3s\n"
     ]
    }
   ],
   "source": [
    "%%time\n",
    "y_pred = model.predict(X_pred)"
   ]
  },
  {
   "cell_type": "code",
   "execution_count": 17,
   "metadata": {
    "collapsed": true
   },
   "outputs": [],
   "source": [
    "y_all[~idx_train] = y_pred"
   ]
  },
  {
   "cell_type": "code",
   "execution_count": 18,
   "metadata": {
    "collapsed": true
   },
   "outputs": [],
   "source": [
    "df_region = pd.DataFrame(y_all, columns=[y_col])"
   ]
  },
  {
   "cell_type": "code",
   "execution_count": 19,
   "metadata": {
    "collapsed": true
   },
   "outputs": [],
   "source": [
    "df_region.to_csv(\n",
    "    '/Users/shuyangdu/Desktop/ZillowChallenge/data/properties_fill_{}.csv'.format(y_col), \n",
    "    index=False\n",
    ")"
   ]
  },
  {
   "cell_type": "code",
   "execution_count": null,
   "metadata": {
    "collapsed": true
   },
   "outputs": [],
   "source": []
  }
 ],
 "metadata": {
  "kernelspec": {
   "display_name": "Python 2",
   "language": "python",
   "name": "python2"
  },
  "language_info": {
   "codemirror_mode": {
    "name": "ipython",
    "version": 2
   },
   "file_extension": ".py",
   "mimetype": "text/x-python",
   "name": "python",
   "nbconvert_exporter": "python",
   "pygments_lexer": "ipython2",
   "version": "2.7.13"
  }
 },
 "nbformat": 4,
 "nbformat_minor": 2
}
