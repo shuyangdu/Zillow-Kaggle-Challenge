{
 "cells": [
  {
   "cell_type": "code",
   "execution_count": 5,
   "metadata": {},
   "outputs": [
    {
     "name": "stdout",
     "output_type": "stream",
     "text": [
      "The autoreload extension is already loaded. To reload it, use:\n",
      "  %reload_ext autoreload\n"
     ]
    }
   ],
   "source": [
    "import pandas as pd\n",
    "import numpy as np\n",
    "from data_process.column_schema import PROPERTIES_RENAME_DICT, TRANSACTION_RENAME_DICT, NUMERICAL_COLS\n",
    "from data_process.data_process_pipeline import DataProcessPipeline\n",
    "%load_ext autoreload\n",
    "%autoreload 2"
   ]
  },
  {
   "cell_type": "code",
   "execution_count": 8,
   "metadata": {
    "scrolled": true
   },
   "outputs": [
    {
     "name": "stderr",
     "output_type": "stream",
     "text": [
      "/Users/shuyangdu/anaconda/envs/py27/lib/python2.7/site-packages/IPython/core/interactiveshell.py:2717: DtypeWarning: Columns (22,32,34,49,55) have mixed types. Specify dtype option on import or set low_memory=False.\n",
      "  interactivity=interactivity, compiler=compiler, result=result)\n"
     ]
    }
   ],
   "source": [
    "df_properties = pd.read_csv('/Users/shuyangdu/Desktop/ZillowChallenge/data/properties_2016.csv')"
   ]
  },
  {
   "cell_type": "code",
   "execution_count": 9,
   "metadata": {
    "collapsed": true
   },
   "outputs": [],
   "source": [
    "df_train = pd.read_csv('/Users/shuyangdu/Desktop/ZillowChallenge/data/train_2016_v2.csv',\n",
    "                       parse_dates=['transactiondate'])"
   ]
  },
  {
   "cell_type": "code",
   "execution_count": 10,
   "metadata": {
    "collapsed": true
   },
   "outputs": [],
   "source": [
    "data_pipeline = DataProcessPipeline()"
   ]
  },
  {
   "cell_type": "code",
   "execution_count": 11,
   "metadata": {
    "collapsed": true
   },
   "outputs": [],
   "source": [
    "df = data_pipeline.merge(df_properties, df_train)"
   ]
  },
  {
   "cell_type": "code",
   "execution_count": 12,
   "metadata": {},
   "outputs": [
    {
     "name": "stdout",
     "output_type": "stream",
     "text": [
      "(72220, 60) (18055, 60)\n",
      "(72220, 60) (18055, 60)\n",
      "(72220, 60) (18055, 60)\n",
      "(72220, 60) (18055, 60)\n",
      "(72220, 60) (18055, 60)\n"
     ]
    }
   ],
   "source": [
    "for train, test in data_pipeline.k_fold(df, 52):\n",
    "    print train.shape, test.shape"
   ]
  },
  {
   "cell_type": "code",
   "execution_count": 7,
   "metadata": {},
   "outputs": [
    {
     "name": "stdout",
     "output_type": "stream",
     "text": [
      "build_year 131\n",
      "area_basement 40\n",
      "area_patio 568\n",
      "area_shed 74\n",
      "area_pool 274\n",
      "area_lot 20017\n",
      "area_garage 871\n",
      "area_firstfloor_finished 1887\n",
      "area_total_finished_calc 5103\n",
      "area_basic 361\n",
      "area_live_finished 4983\n",
      "area_liveperi_finished 12\n",
      "area_total_finished 1916\n",
      "area_live_entry_finished 1899\n",
      "num_unit 11\n",
      "num_story 5\n",
      "num_room 17\n",
      "num_bathroom 23\n",
      "num_bedroom 17\n",
      "num_bathroom_calc 23\n",
      "num_bathroom_full 15\n",
      "num_bathroom_quarter 5\n",
      "num_fireplace 6\n",
      "num_pool 2\n",
      "num_garage 16\n",
      "tax_total 55939\n",
      "tax_building 55451\n",
      "tax_land 57067\n",
      "tax_property 85111\n",
      "tax_delinquency_year 12\n",
      "quality 9\n"
     ]
    }
   ],
   "source": [
    "for col in data_processor.numerical_cols:\n",
    "    print col, len(df[col].unique())"
   ]
  },
  {
   "cell_type": "code",
   "execution_count": 8,
   "metadata": {},
   "outputs": [
    {
     "name": "stdout",
     "output_type": "stream",
     "text": [
      "region_county 3 float64\n",
      "region_city 178 float64\n",
      "region_zip 389 float64\n",
      "region_neighbor 495 float64\n",
      "tax_flag_delinquency 2 object\n",
      "zoning_property 1997 object\n",
      "zoning_landuse 14 float64\n",
      "zoning_landuse_county 78 object\n",
      "flag_fireplace 2 object\n",
      "flag_tub 2 object\n",
      "framing 2 float64\n",
      "material 4 float64\n",
      "deck 2 float64\n",
      "story 2 float64\n",
      "heating 13 float64\n",
      "aircon 7 float64\n",
      "architectural_style 7 float64\n"
     ]
    }
   ],
   "source": [
    "for col in data_processor.categorical_cols:\n",
    "    print col, len(df[col].unique()), df[col].dtype"
   ]
  },
  {
   "cell_type": "code",
   "execution_count": 3,
   "metadata": {},
   "outputs": [
    {
     "name": "stdout",
     "output_type": "stream",
     "text": [
      "fips\n",
      "latitude\n",
      "longitude\n",
      "pooltypeid10\n",
      "pooltypeid2\n",
      "pooltypeid7\n",
      "rawcensustractandblock\n",
      "censustractandblock\n"
     ]
    }
   ],
   "source": [
    "for col in df_properties.columns:\n",
    "    if col not in properties_rename_dct.keys():\n",
    "        print col"
   ]
  },
  {
   "cell_type": "code",
   "execution_count": 10,
   "metadata": {},
   "outputs": [],
   "source": [
    "import os"
   ]
  },
  {
   "cell_type": "code",
   "execution_count": 11,
   "metadata": {},
   "outputs": [
    {
     "data": {
      "text/plain": [
       "'/Users/shuyangdu/Desktop/ZillowChallenge/zillow-kaggle-challenge'"
      ]
     },
     "execution_count": 11,
     "metadata": {},
     "output_type": "execute_result"
    }
   ],
   "source": [
    "os.getcwd()"
   ]
  },
  {
   "cell_type": "code",
   "execution_count": 27,
   "metadata": {},
   "outputs": [
    {
     "data": {
      "text/plain": [
       "array([     nan,   27080.,   46795.,  274049.,   31817.,   37739.,\n",
       "        115729.,    7877.,  762191.,   13327.,  116415.,  113910.,\n",
       "        117023.,  761543.,  403142.,  118920.,  118208.,  403192.,\n",
       "        274514.,  268496.,  268118.,  268404.,  116206.,  114914.,\n",
       "        403190.,  113886.,  268134.,  268473.,  273825.,  115609.,\n",
       "         32059.,  274359.,  275856.,  276256.,  275958.,  275405.,\n",
       "        273539.,  273930.,  276476.,  416304.,  416309.,  273486.,\n",
       "         54300.,  118825.,  762685.,   40548.,   41466.,   34213.,\n",
       "        268249.,   40215.,  116646.,   37835.,   30731.,   33183.,\n",
       "         26134.,  764167.,  343505.,  275989.,  275428.,   38888.,\n",
       "         48516.,  416329.,  259606.,  763090.,  276581.,  276486.,\n",
       "        403197.,  403196.,  268441.,  118872.,  275795.,  762933.,\n",
       "         46736.,  761219.,  761223.,  761218.,  761211.,  116430.,\n",
       "        761055.,  761221.,  411433.,  761210.,   22655.,  116692.,\n",
       "        135143.,  762926.,  762959.,   30685.,  762961.,  762956.,\n",
       "        761001.,  762951.,  762930.,  117148.,  762962.,  762940.,\n",
       "        762957.,  762949.,  118106.,  762936.,  762946.,  762945.,\n",
       "        762934.,  220669.,  762931.,  762952.,  114909.,  268588.,\n",
       "         48570.,  764089.,  764098.,  155228.,  764099.,  764097.,\n",
       "        764090.,  764094.,  764096.,  762527.,   51224.,  763011.,\n",
       "         32368.,   27987.,   51906.,   47950.,   13176.,  268548.,\n",
       "        268002.,   41131.,  268551.,   47880.,   25449.,   27431.,\n",
       "        763680.,  116375.,  265889.,   33952.,   27328.,   27484.,\n",
       "        403184.,   13017.,  275078.,    6952.,   48200.,  763220.,\n",
       "        224568.,  761099.,  763218.,   36630.,  416334.,  763219.,\n",
       "        274750.,  276514.,  762186.,  763527.,   11950.,  762183.,\n",
       "        268097.,  762193.,  762187.,  762188.,  117183.,  259315.,\n",
       "        762189.,  762185.,   21056.,  762190.,  274517.,  117954.,\n",
       "        761541.,  268293.,  761542.,  761545.,  761546.,  761547.,\n",
       "        761544.,  262098.,  403183.,  403195.,  275024.,  118887.,\n",
       "        114246.,  276450.,  762180.,  762181.,  762178.,  113749.,\n",
       "        113688.,   19810.,  763094.,  761094.,  274293.,  115836.,\n",
       "        268581.,  757352.,  268540.,  403193.,  276023.,  268236.,\n",
       "        403194.,  273197.,  268316.,  417433.,  623380.,  623382.,\n",
       "        623379.,  275426.,  623378.,  623377.,  273572.,  623381.,\n",
       "        268144.,  268010.,  403191.,  116774.,  268103.,  114808.,\n",
       "        275411.,  762179.,  273400.,  274582.,  275512.,  274580.,\n",
       "        275857.,  274857.,  273617.,  273868.,  275207.,  273837.,\n",
       "        274995.,  273059.,  273789.,  275884.,  273257.,  275257.,\n",
       "        276258.,  273313.,  273890.,  273633.,  276121.,  273834.,\n",
       "        275130.,  275396.,  274425.,  272725.,  274587.,  274940.,\n",
       "        274684.,  274695.,  274513.,  274705.,  118849.,  276606.,\n",
       "        416307.,  416319.,  416320.,  272968.,  274358.,  272969.,\n",
       "        273109.,  274262.,  273263.,  276157.,  275067.,  273252.,\n",
       "        116302.,  416308.,  416317.,  275567.,  416318.,  274961.,\n",
       "        272933.,  273567.,  272737.,  416316.,  116828.,  416860.,\n",
       "        113713.,  416310.,  416315.,  416303.,  416302.,  416313.,\n",
       "        416312.,  416306.,  416314.,  274895.,  416335.,  416341.,\n",
       "        416345.,  416338.,  416339.,  416346.,  416344.,  416348.,\n",
       "        416347.,  416331.,  416337.,  416965.,  416964.,  416330.,\n",
       "        416350.,  416963.,  115657.,  416967.,  416332.,  275994.,\n",
       "        416336.,  416966.,  762683.,  267436.,  764147.,  764135.,\n",
       "        763080.,  214079.,  259818.,  761098.,  191484.,  764074.,\n",
       "        762684.,  762682.,  763169.,  763171.,  763089.,  763172.,\n",
       "        764143.,  764142.,  762890.,  763170.,  268585.,  275210.,\n",
       "        268160.,  276461.,  268392.,  268007.,  268596.,  273198.,\n",
       "        268403.,  272912.,  268208.,  268132.,  273350.,  276449.,\n",
       "        268602.,  274494.,  274392.,  276293.,  275695.,  274765.,\n",
       "        275470.,  275496.,   28119.,  274800.,  113455.,  273339.,\n",
       "        268587.,  268334.,  268604.,  268605.,  268509.,  275738.,\n",
       "        275300.,  268439.,  417224.,  273663.,  268288.,  273677.,\n",
       "        268168.,  273866.,  268244.,  268451.,  268269.,  268572.,\n",
       "        268055.,  268546.,  273041.,  268453.,  268482.,  268430.,\n",
       "        268323.,  275979.,  276119.,  275916.,  273611.,  274828.,\n",
       "        275824.,  275785.,  274815.,  274371.,  403127.,  275339.,\n",
       "        275129.,  273096.,  275826.,  268268.,  762184.,  268057.,\n",
       "        156012.,  763789.,  762939.,  275340.,  275784.,  275111.,\n",
       "        764107.,  764105.,  764108.,  764140.,  764139.,  417225.,\n",
       "        763012.,  762182.,  275778.,  761215.,  761214.,  761222.,\n",
       "        762927.,  762963.,  762950.,  762955.,  762953.,  762942.,\n",
       "        246825.,  760998.,  762944.,  266606.,  764095.,  764087.,\n",
       "        764088.,  764165.,  764166.,  764164.,  276348.,  273615.,\n",
       "        416305.,  416343.,  416340.,  416333.,  761097.,  764148.,\n",
       "        764134.,  268157.,  268050.,  268454.,  273168.,  268413.,\n",
       "        274343.,  268253.,  268291.,  416873.,  764103.,  416342.,\n",
       "        764106.,  762938.,  764109.,  762960.,  115656.,  762937.,\n",
       "        762935.,  259435.,   19265.,  762177.,  276257.,  276061.,\n",
       "        764136.,  764149.,  260611.,  248165.,  764145.,   47913.,\n",
       "        273791.,  268049.,  764104.,  764102.,  764141.,  762928.,\n",
       "        763217.,  267814.,  760999.,  762192.,  276299.,  764152.,\n",
       "        764144.,  268162.,  763791.,  764101.,  763790.,  763679.,\n",
       "        762954.,  762947.,  762932.,  764093.,  272170.,  274418.,\n",
       "        762596.,  761000.,  762948.,  762175.,  416311.,  763079.,\n",
       "        762941.,  115295.,  273042.,  416349.,  763185.,  273607.,\n",
       "        761212.,  764150.,  764153.,  764138.,  219438.,  761220.,\n",
       "        623346.,  762176.,  272732.,  268446.,  761090.,  249692.,\n",
       "        764137.,  762929.,  275855.,  260382.,  761217.,  275316.,\n",
       "        411726.,  764092.,  764091.,  275287.,  764146.,  274108.,  273552.])"
      ]
     },
     "execution_count": 27,
     "metadata": {},
     "output_type": "execute_result"
    }
   ],
   "source": [
    "df_properties['regionidneighborhood'].unique()"
   ]
  },
  {
   "cell_type": "code",
   "execution_count": null,
   "metadata": {
    "collapsed": true
   },
   "outputs": [],
   "source": []
  }
 ],
 "metadata": {
  "kernelspec": {
   "display_name": "Python 2",
   "language": "python",
   "name": "python2"
  },
  "language_info": {
   "codemirror_mode": {
    "name": "ipython",
    "version": 2
   },
   "file_extension": ".py",
   "mimetype": "text/x-python",
   "name": "python",
   "nbconvert_exporter": "python",
   "pygments_lexer": "ipython2",
   "version": "2.7.13"
  }
 },
 "nbformat": 4,
 "nbformat_minor": 2
}
